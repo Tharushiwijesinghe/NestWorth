{
  "cells": [
    {
      "cell_type": "code",
      "execution_count": 1,
      "metadata": {
        "id": "eRjwdNP9ertw"
      },
      "outputs": [],
      "source": [
        "import pandas as pd\n",
        "import numpy as np\n",
        "from matplotlib import pyplot as plt\n",
        "%matplotlib inline\n",
        "import matplotlib\n",
        "matplotlib.rcParams[\"figure.figsize\"] = (20,10)\n"
      ]
    },
    {
      "cell_type": "code",
      "execution_count": 2,
      "metadata": {
        "colab": {
          "base_uri": "https://localhost:8080/",
          "height": 365
        },
        "id": "3OeKsMU9uovu",
        "outputId": "966a2f9e-5125-47a1-cd9c-ee455a2341eb"
      },
      "outputs": [
        {
          "data": {
            "text/html": [
              "<div>\n",
              "<style scoped>\n",
              "    .dataframe tbody tr th:only-of-type {\n",
              "        vertical-align: middle;\n",
              "    }\n",
              "\n",
              "    .dataframe tbody tr th {\n",
              "        vertical-align: top;\n",
              "    }\n",
              "\n",
              "    .dataframe thead th {\n",
              "        text-align: right;\n",
              "    }\n",
              "</style>\n",
              "<table border=\"1\" class=\"dataframe\">\n",
              "  <thead>\n",
              "    <tr style=\"text-align: right;\">\n",
              "      <th></th>\n",
              "      <th>area_type</th>\n",
              "      <th>availability</th>\n",
              "      <th>location</th>\n",
              "      <th>size</th>\n",
              "      <th>society</th>\n",
              "      <th>total_sqft</th>\n",
              "      <th>bath</th>\n",
              "      <th>balcony</th>\n",
              "      <th>price</th>\n",
              "    </tr>\n",
              "  </thead>\n",
              "  <tbody>\n",
              "    <tr>\n",
              "      <th>0</th>\n",
              "      <td>Super built-up  Area</td>\n",
              "      <td>19-Dec</td>\n",
              "      <td>Electronic City Phase II</td>\n",
              "      <td>2 BHK</td>\n",
              "      <td>Coomee</td>\n",
              "      <td>1056</td>\n",
              "      <td>2.0</td>\n",
              "      <td>1.0</td>\n",
              "      <td>39.07</td>\n",
              "    </tr>\n",
              "    <tr>\n",
              "      <th>1</th>\n",
              "      <td>Plot  Area</td>\n",
              "      <td>Ready To Move</td>\n",
              "      <td>Chikka Tirupathi</td>\n",
              "      <td>4 Bedroom</td>\n",
              "      <td>Theanmp</td>\n",
              "      <td>2600</td>\n",
              "      <td>5.0</td>\n",
              "      <td>3.0</td>\n",
              "      <td>120.00</td>\n",
              "    </tr>\n",
              "    <tr>\n",
              "      <th>2</th>\n",
              "      <td>Built-up  Area</td>\n",
              "      <td>Ready To Move</td>\n",
              "      <td>Uttarahalli</td>\n",
              "      <td>3 BHK</td>\n",
              "      <td>NaN</td>\n",
              "      <td>1440</td>\n",
              "      <td>2.0</td>\n",
              "      <td>3.0</td>\n",
              "      <td>62.00</td>\n",
              "    </tr>\n",
              "    <tr>\n",
              "      <th>3</th>\n",
              "      <td>Super built-up  Area</td>\n",
              "      <td>Ready To Move</td>\n",
              "      <td>Lingadheeranahalli</td>\n",
              "      <td>3 BHK</td>\n",
              "      <td>Soiewre</td>\n",
              "      <td>1521</td>\n",
              "      <td>3.0</td>\n",
              "      <td>1.0</td>\n",
              "      <td>95.00</td>\n",
              "    </tr>\n",
              "    <tr>\n",
              "      <th>4</th>\n",
              "      <td>Super built-up  Area</td>\n",
              "      <td>Ready To Move</td>\n",
              "      <td>Kothanur</td>\n",
              "      <td>2 BHK</td>\n",
              "      <td>NaN</td>\n",
              "      <td>1200</td>\n",
              "      <td>2.0</td>\n",
              "      <td>1.0</td>\n",
              "      <td>51.00</td>\n",
              "    </tr>\n",
              "  </tbody>\n",
              "</table>\n",
              "</div>"
            ],
            "text/plain": [
              "              area_type   availability                  location       size  \\\n",
              "0  Super built-up  Area         19-Dec  Electronic City Phase II      2 BHK   \n",
              "1            Plot  Area  Ready To Move          Chikka Tirupathi  4 Bedroom   \n",
              "2        Built-up  Area  Ready To Move               Uttarahalli      3 BHK   \n",
              "3  Super built-up  Area  Ready To Move        Lingadheeranahalli      3 BHK   \n",
              "4  Super built-up  Area  Ready To Move                  Kothanur      2 BHK   \n",
              "\n",
              "   society total_sqft  bath  balcony   price  \n",
              "0  Coomee        1056   2.0      1.0   39.07  \n",
              "1  Theanmp       2600   5.0      3.0  120.00  \n",
              "2      NaN       1440   2.0      3.0   62.00  \n",
              "3  Soiewre       1521   3.0      1.0   95.00  \n",
              "4      NaN       1200   2.0      1.0   51.00  "
            ]
          },
          "execution_count": 2,
          "metadata": {},
          "output_type": "execute_result"
        }
      ],
      "source": [
        "df1 = pd.read_csv(r\"D:\\tharu\\My Projects\\HPN\\NestWorth\\model\\Data\\bengaluru_house_prices.csv\")\n",
        "df1.head()"
      ]
    },
    {
      "cell_type": "code",
      "execution_count": 3,
      "metadata": {
        "colab": {
          "base_uri": "https://localhost:8080/"
        },
        "id": "BSdGS0Rffwp2",
        "outputId": "f336ea86-8985-420d-d795-14c767fa72d7"
      },
      "outputs": [
        {
          "data": {
            "text/plain": [
              "(13320, 9)"
            ]
          },
          "execution_count": 3,
          "metadata": {},
          "output_type": "execute_result"
        }
      ],
      "source": [
        "df1.shape\n"
      ]
    },
    {
      "cell_type": "code",
      "execution_count": 4,
      "metadata": {
        "colab": {
          "base_uri": "https://localhost:8080/",
          "height": 241
        },
        "id": "m0fucvwqgygw",
        "outputId": "edf3aa4f-bdac-451c-97a2-3f8ff19042d7"
      },
      "outputs": [
        {
          "data": {
            "text/plain": [
              "area_type\n",
              "Built-up  Area          2418\n",
              "Carpet  Area              87\n",
              "Plot  Area              2025\n",
              "Super built-up  Area    8790\n",
              "Name: area_type, dtype: int64"
            ]
          },
          "execution_count": 4,
          "metadata": {},
          "output_type": "execute_result"
        }
      ],
      "source": [
        "df1.groupby('area_type')['area_type'].agg('count')"
      ]
    },
    {
      "cell_type": "code",
      "execution_count": 5,
      "metadata": {
        "colab": {
          "base_uri": "https://localhost:8080/",
          "height": 206
        },
        "id": "hmN9PtctVToj",
        "outputId": "7137c76f-bace-4b19-d99e-5ed54465b0e8"
      },
      "outputs": [
        {
          "data": {
            "text/html": [
              "<div>\n",
              "<style scoped>\n",
              "    .dataframe tbody tr th:only-of-type {\n",
              "        vertical-align: middle;\n",
              "    }\n",
              "\n",
              "    .dataframe tbody tr th {\n",
              "        vertical-align: top;\n",
              "    }\n",
              "\n",
              "    .dataframe thead th {\n",
              "        text-align: right;\n",
              "    }\n",
              "</style>\n",
              "<table border=\"1\" class=\"dataframe\">\n",
              "  <thead>\n",
              "    <tr style=\"text-align: right;\">\n",
              "      <th></th>\n",
              "      <th>location</th>\n",
              "      <th>size</th>\n",
              "      <th>total_sqft</th>\n",
              "      <th>bath</th>\n",
              "      <th>price</th>\n",
              "    </tr>\n",
              "  </thead>\n",
              "  <tbody>\n",
              "    <tr>\n",
              "      <th>0</th>\n",
              "      <td>Electronic City Phase II</td>\n",
              "      <td>2 BHK</td>\n",
              "      <td>1056</td>\n",
              "      <td>2.0</td>\n",
              "      <td>39.07</td>\n",
              "    </tr>\n",
              "    <tr>\n",
              "      <th>1</th>\n",
              "      <td>Chikka Tirupathi</td>\n",
              "      <td>4 Bedroom</td>\n",
              "      <td>2600</td>\n",
              "      <td>5.0</td>\n",
              "      <td>120.00</td>\n",
              "    </tr>\n",
              "    <tr>\n",
              "      <th>2</th>\n",
              "      <td>Uttarahalli</td>\n",
              "      <td>3 BHK</td>\n",
              "      <td>1440</td>\n",
              "      <td>2.0</td>\n",
              "      <td>62.00</td>\n",
              "    </tr>\n",
              "    <tr>\n",
              "      <th>3</th>\n",
              "      <td>Lingadheeranahalli</td>\n",
              "      <td>3 BHK</td>\n",
              "      <td>1521</td>\n",
              "      <td>3.0</td>\n",
              "      <td>95.00</td>\n",
              "    </tr>\n",
              "    <tr>\n",
              "      <th>4</th>\n",
              "      <td>Kothanur</td>\n",
              "      <td>2 BHK</td>\n",
              "      <td>1200</td>\n",
              "      <td>2.0</td>\n",
              "      <td>51.00</td>\n",
              "    </tr>\n",
              "  </tbody>\n",
              "</table>\n",
              "</div>"
            ],
            "text/plain": [
              "                   location       size total_sqft  bath   price\n",
              "0  Electronic City Phase II      2 BHK       1056   2.0   39.07\n",
              "1          Chikka Tirupathi  4 Bedroom       2600   5.0  120.00\n",
              "2               Uttarahalli      3 BHK       1440   2.0   62.00\n",
              "3        Lingadheeranahalli      3 BHK       1521   3.0   95.00\n",
              "4                  Kothanur      2 BHK       1200   2.0   51.00"
            ]
          },
          "execution_count": 5,
          "metadata": {},
          "output_type": "execute_result"
        }
      ],
      "source": [
        "# noisy data\n",
        "df2 = df1.drop(['area_type','society','availability','balcony'], axis='columns')\n",
        "df2.head()"
      ]
    },
    {
      "cell_type": "code",
      "execution_count": 6,
      "metadata": {
        "colab": {
          "base_uri": "https://localhost:8080/",
          "height": 241
        },
        "id": "PYbWZcENbOyX",
        "outputId": "5506f25a-c68d-4d90-bdba-4523323d7a5c"
      },
      "outputs": [
        {
          "data": {
            "text/plain": [
              "location       1\n",
              "size          16\n",
              "total_sqft     0\n",
              "bath          73\n",
              "price          0\n",
              "dtype: int64"
            ]
          },
          "execution_count": 6,
          "metadata": {},
          "output_type": "execute_result"
        }
      ],
      "source": [
        "df2.isnull().sum()"
      ]
    },
    {
      "cell_type": "code",
      "execution_count": 7,
      "metadata": {
        "colab": {
          "base_uri": "https://localhost:8080/",
          "height": 241
        },
        "id": "ctQXK5qFbTa-",
        "outputId": "64217683-0d4d-40a7-fe5b-51464f2ccb45"
      },
      "outputs": [
        {
          "data": {
            "text/plain": [
              "location      0\n",
              "size          0\n",
              "total_sqft    0\n",
              "bath          0\n",
              "price         0\n",
              "dtype: int64"
            ]
          },
          "execution_count": 7,
          "metadata": {},
          "output_type": "execute_result"
        }
      ],
      "source": [
        "df3=df2.dropna()\n",
        "df3.isnull().sum()"
      ]
    },
    {
      "cell_type": "code",
      "execution_count": 8,
      "metadata": {
        "colab": {
          "base_uri": "https://localhost:8080/"
        },
        "id": "-zW8VG8gdh1b",
        "outputId": "7fb77cff-c946-44c0-80b0-fc792cbbadcf"
      },
      "outputs": [
        {
          "data": {
            "text/plain": [
              "array(['2 BHK', '4 Bedroom', '3 BHK', '4 BHK', '6 Bedroom', '3 Bedroom',\n",
              "       '1 BHK', '1 RK', '1 Bedroom', '8 Bedroom', '2 Bedroom',\n",
              "       '7 Bedroom', '5 BHK', '7 BHK', '6 BHK', '5 Bedroom', '11 BHK',\n",
              "       '9 BHK', '9 Bedroom', '27 BHK', '10 Bedroom', '11 Bedroom',\n",
              "       '10 BHK', '19 BHK', '16 BHK', '43 Bedroom', '14 BHK', '8 BHK',\n",
              "       '12 Bedroom', '13 BHK', '18 Bedroom'], dtype=object)"
            ]
          },
          "execution_count": 8,
          "metadata": {},
          "output_type": "execute_result"
        }
      ],
      "source": [
        "df3['size'].unique()"
      ]
    },
    {
      "cell_type": "code",
      "execution_count": 9,
      "metadata": {
        "colab": {
          "base_uri": "https://localhost:8080/",
          "height": 330
        },
        "id": "xdIeVbvSetEp",
        "outputId": "c921982e-4e51-44fd-f120-75a316d01f0a"
      },
      "outputs": [
        {
          "name": "stderr",
          "output_type": "stream",
          "text": [
            "C:\\Users\\ASUS\\AppData\\Local\\Temp\\ipykernel_21360\\2653233942.py:1: SettingWithCopyWarning: \n",
            "A value is trying to be set on a copy of a slice from a DataFrame.\n",
            "Try using .loc[row_indexer,col_indexer] = value instead\n",
            "\n",
            "See the caveats in the documentation: https://pandas.pydata.org/pandas-docs/stable/user_guide/indexing.html#returning-a-view-versus-a-copy\n",
            "  df3['Bedroom']=df3['size'].apply(lambda x : int(x.split(' ')[0]))\n"
          ]
        },
        {
          "data": {
            "text/html": [
              "<div>\n",
              "<style scoped>\n",
              "    .dataframe tbody tr th:only-of-type {\n",
              "        vertical-align: middle;\n",
              "    }\n",
              "\n",
              "    .dataframe tbody tr th {\n",
              "        vertical-align: top;\n",
              "    }\n",
              "\n",
              "    .dataframe thead th {\n",
              "        text-align: right;\n",
              "    }\n",
              "</style>\n",
              "<table border=\"1\" class=\"dataframe\">\n",
              "  <thead>\n",
              "    <tr style=\"text-align: right;\">\n",
              "      <th></th>\n",
              "      <th>location</th>\n",
              "      <th>size</th>\n",
              "      <th>total_sqft</th>\n",
              "      <th>bath</th>\n",
              "      <th>price</th>\n",
              "      <th>Bedroom</th>\n",
              "    </tr>\n",
              "  </thead>\n",
              "  <tbody>\n",
              "    <tr>\n",
              "      <th>0</th>\n",
              "      <td>Electronic City Phase II</td>\n",
              "      <td>2 BHK</td>\n",
              "      <td>1056</td>\n",
              "      <td>2.0</td>\n",
              "      <td>39.07</td>\n",
              "      <td>2</td>\n",
              "    </tr>\n",
              "    <tr>\n",
              "      <th>1</th>\n",
              "      <td>Chikka Tirupathi</td>\n",
              "      <td>4 Bedroom</td>\n",
              "      <td>2600</td>\n",
              "      <td>5.0</td>\n",
              "      <td>120.00</td>\n",
              "      <td>4</td>\n",
              "    </tr>\n",
              "    <tr>\n",
              "      <th>2</th>\n",
              "      <td>Uttarahalli</td>\n",
              "      <td>3 BHK</td>\n",
              "      <td>1440</td>\n",
              "      <td>2.0</td>\n",
              "      <td>62.00</td>\n",
              "      <td>3</td>\n",
              "    </tr>\n",
              "    <tr>\n",
              "      <th>3</th>\n",
              "      <td>Lingadheeranahalli</td>\n",
              "      <td>3 BHK</td>\n",
              "      <td>1521</td>\n",
              "      <td>3.0</td>\n",
              "      <td>95.00</td>\n",
              "      <td>3</td>\n",
              "    </tr>\n",
              "    <tr>\n",
              "      <th>4</th>\n",
              "      <td>Kothanur</td>\n",
              "      <td>2 BHK</td>\n",
              "      <td>1200</td>\n",
              "      <td>2.0</td>\n",
              "      <td>51.00</td>\n",
              "      <td>2</td>\n",
              "    </tr>\n",
              "  </tbody>\n",
              "</table>\n",
              "</div>"
            ],
            "text/plain": [
              "                   location       size total_sqft  bath   price  Bedroom\n",
              "0  Electronic City Phase II      2 BHK       1056   2.0   39.07        2\n",
              "1          Chikka Tirupathi  4 Bedroom       2600   5.0  120.00        4\n",
              "2               Uttarahalli      3 BHK       1440   2.0   62.00        3\n",
              "3        Lingadheeranahalli      3 BHK       1521   3.0   95.00        3\n",
              "4                  Kothanur      2 BHK       1200   2.0   51.00        2"
            ]
          },
          "execution_count": 9,
          "metadata": {},
          "output_type": "execute_result"
        }
      ],
      "source": [
        "df3['Bedroom']=df3['size'].apply(lambda x : int(x.split(' ')[0]))\n",
        "df3.head()"
      ]
    },
    {
      "cell_type": "code",
      "execution_count": 10,
      "metadata": {
        "colab": {
          "base_uri": "https://localhost:8080/"
        },
        "id": "kWvJRDqYfC6n",
        "outputId": "c900bd3a-8a67-46ed-e5f1-4c509b1c77f6"
      },
      "outputs": [
        {
          "data": {
            "text/plain": [
              "array(['1056', '2600', '1440', ..., '1133 - 1384', '774', '4689'],\n",
              "      dtype=object)"
            ]
          },
          "execution_count": 10,
          "metadata": {},
          "output_type": "execute_result"
        }
      ],
      "source": [
        "df3.total_sqft.unique()"
      ]
    },
    {
      "cell_type": "code",
      "execution_count": 11,
      "metadata": {
        "colab": {
          "base_uri": "https://localhost:8080/",
          "height": 423
        },
        "id": "pPMVDkIijGZI",
        "outputId": "71637c59-d90d-427c-e1b8-f474f4f6cd9f"
      },
      "outputs": [
        {
          "data": {
            "text/html": [
              "<div>\n",
              "<style scoped>\n",
              "    .dataframe tbody tr th:only-of-type {\n",
              "        vertical-align: middle;\n",
              "    }\n",
              "\n",
              "    .dataframe tbody tr th {\n",
              "        vertical-align: top;\n",
              "    }\n",
              "\n",
              "    .dataframe thead th {\n",
              "        text-align: right;\n",
              "    }\n",
              "</style>\n",
              "<table border=\"1\" class=\"dataframe\">\n",
              "  <thead>\n",
              "    <tr style=\"text-align: right;\">\n",
              "      <th></th>\n",
              "      <th>location</th>\n",
              "      <th>size</th>\n",
              "      <th>total_sqft</th>\n",
              "      <th>bath</th>\n",
              "      <th>price</th>\n",
              "      <th>Bedroom</th>\n",
              "    </tr>\n",
              "  </thead>\n",
              "  <tbody>\n",
              "    <tr>\n",
              "      <th>0</th>\n",
              "      <td>Electronic City Phase II</td>\n",
              "      <td>2 BHK</td>\n",
              "      <td>1056</td>\n",
              "      <td>2.0</td>\n",
              "      <td>39.07</td>\n",
              "      <td>2</td>\n",
              "    </tr>\n",
              "    <tr>\n",
              "      <th>1</th>\n",
              "      <td>Chikka Tirupathi</td>\n",
              "      <td>4 Bedroom</td>\n",
              "      <td>2600</td>\n",
              "      <td>5.0</td>\n",
              "      <td>120.00</td>\n",
              "      <td>4</td>\n",
              "    </tr>\n",
              "    <tr>\n",
              "      <th>2</th>\n",
              "      <td>Uttarahalli</td>\n",
              "      <td>3 BHK</td>\n",
              "      <td>1440</td>\n",
              "      <td>2.0</td>\n",
              "      <td>62.00</td>\n",
              "      <td>3</td>\n",
              "    </tr>\n",
              "    <tr>\n",
              "      <th>3</th>\n",
              "      <td>Lingadheeranahalli</td>\n",
              "      <td>3 BHK</td>\n",
              "      <td>1521</td>\n",
              "      <td>3.0</td>\n",
              "      <td>95.00</td>\n",
              "      <td>3</td>\n",
              "    </tr>\n",
              "    <tr>\n",
              "      <th>4</th>\n",
              "      <td>Kothanur</td>\n",
              "      <td>2 BHK</td>\n",
              "      <td>1200</td>\n",
              "      <td>2.0</td>\n",
              "      <td>51.00</td>\n",
              "      <td>2</td>\n",
              "    </tr>\n",
              "    <tr>\n",
              "      <th>...</th>\n",
              "      <td>...</td>\n",
              "      <td>...</td>\n",
              "      <td>...</td>\n",
              "      <td>...</td>\n",
              "      <td>...</td>\n",
              "      <td>...</td>\n",
              "    </tr>\n",
              "    <tr>\n",
              "      <th>13315</th>\n",
              "      <td>Whitefield</td>\n",
              "      <td>5 Bedroom</td>\n",
              "      <td>3453</td>\n",
              "      <td>4.0</td>\n",
              "      <td>231.00</td>\n",
              "      <td>5</td>\n",
              "    </tr>\n",
              "    <tr>\n",
              "      <th>13316</th>\n",
              "      <td>Richards Town</td>\n",
              "      <td>4 BHK</td>\n",
              "      <td>3600</td>\n",
              "      <td>5.0</td>\n",
              "      <td>400.00</td>\n",
              "      <td>4</td>\n",
              "    </tr>\n",
              "    <tr>\n",
              "      <th>13317</th>\n",
              "      <td>Raja Rajeshwari Nagar</td>\n",
              "      <td>2 BHK</td>\n",
              "      <td>1141</td>\n",
              "      <td>2.0</td>\n",
              "      <td>60.00</td>\n",
              "      <td>2</td>\n",
              "    </tr>\n",
              "    <tr>\n",
              "      <th>13318</th>\n",
              "      <td>Padmanabhanagar</td>\n",
              "      <td>4 BHK</td>\n",
              "      <td>4689</td>\n",
              "      <td>4.0</td>\n",
              "      <td>488.00</td>\n",
              "      <td>4</td>\n",
              "    </tr>\n",
              "    <tr>\n",
              "      <th>13319</th>\n",
              "      <td>Doddathoguru</td>\n",
              "      <td>1 BHK</td>\n",
              "      <td>550</td>\n",
              "      <td>1.0</td>\n",
              "      <td>17.00</td>\n",
              "      <td>1</td>\n",
              "    </tr>\n",
              "  </tbody>\n",
              "</table>\n",
              "<p>13056 rows × 6 columns</p>\n",
              "</div>"
            ],
            "text/plain": [
              "                       location       size total_sqft  bath   price  Bedroom\n",
              "0      Electronic City Phase II      2 BHK       1056   2.0   39.07        2\n",
              "1              Chikka Tirupathi  4 Bedroom       2600   5.0  120.00        4\n",
              "2                   Uttarahalli      3 BHK       1440   2.0   62.00        3\n",
              "3            Lingadheeranahalli      3 BHK       1521   3.0   95.00        3\n",
              "4                      Kothanur      2 BHK       1200   2.0   51.00        2\n",
              "...                         ...        ...        ...   ...     ...      ...\n",
              "13315                Whitefield  5 Bedroom       3453   4.0  231.00        5\n",
              "13316             Richards Town      4 BHK       3600   5.0  400.00        4\n",
              "13317     Raja Rajeshwari Nagar      2 BHK       1141   2.0   60.00        2\n",
              "13318           Padmanabhanagar      4 BHK       4689   4.0  488.00        4\n",
              "13319              Doddathoguru      1 BHK        550   1.0   17.00        1\n",
              "\n",
              "[13056 rows x 6 columns]"
            ]
          },
          "execution_count": 11,
          "metadata": {},
          "output_type": "execute_result"
        }
      ],
      "source": [
        "def is_float(x):\n",
        "  try:\n",
        "    float(x)\n",
        "  except:\n",
        "    return False\n",
        "  return True\n",
        "df3[df3['total_sqft'].apply(is_float)]"
      ]
    },
    {
      "cell_type": "code",
      "execution_count": 12,
      "metadata": {
        "colab": {
          "base_uri": "https://localhost:8080/",
          "height": 363
        },
        "id": "qU9eIpBG2dwd",
        "outputId": "b8279930-3557-4342-9ab4-709d6e41614c"
      },
      "outputs": [
        {
          "data": {
            "text/html": [
              "<div>\n",
              "<style scoped>\n",
              "    .dataframe tbody tr th:only-of-type {\n",
              "        vertical-align: middle;\n",
              "    }\n",
              "\n",
              "    .dataframe tbody tr th {\n",
              "        vertical-align: top;\n",
              "    }\n",
              "\n",
              "    .dataframe thead th {\n",
              "        text-align: right;\n",
              "    }\n",
              "</style>\n",
              "<table border=\"1\" class=\"dataframe\">\n",
              "  <thead>\n",
              "    <tr style=\"text-align: right;\">\n",
              "      <th></th>\n",
              "      <th>location</th>\n",
              "      <th>size</th>\n",
              "      <th>total_sqft</th>\n",
              "      <th>bath</th>\n",
              "      <th>price</th>\n",
              "      <th>Bedroom</th>\n",
              "    </tr>\n",
              "  </thead>\n",
              "  <tbody>\n",
              "    <tr>\n",
              "      <th>30</th>\n",
              "      <td>Yelahanka</td>\n",
              "      <td>4 BHK</td>\n",
              "      <td>2100 - 2850</td>\n",
              "      <td>4.0</td>\n",
              "      <td>186.000</td>\n",
              "      <td>4</td>\n",
              "    </tr>\n",
              "    <tr>\n",
              "      <th>122</th>\n",
              "      <td>Hebbal</td>\n",
              "      <td>4 BHK</td>\n",
              "      <td>3067 - 8156</td>\n",
              "      <td>4.0</td>\n",
              "      <td>477.000</td>\n",
              "      <td>4</td>\n",
              "    </tr>\n",
              "    <tr>\n",
              "      <th>137</th>\n",
              "      <td>8th Phase JP Nagar</td>\n",
              "      <td>2 BHK</td>\n",
              "      <td>1042 - 1105</td>\n",
              "      <td>2.0</td>\n",
              "      <td>54.005</td>\n",
              "      <td>2</td>\n",
              "    </tr>\n",
              "    <tr>\n",
              "      <th>165</th>\n",
              "      <td>Sarjapur</td>\n",
              "      <td>2 BHK</td>\n",
              "      <td>1145 - 1340</td>\n",
              "      <td>2.0</td>\n",
              "      <td>43.490</td>\n",
              "      <td>2</td>\n",
              "    </tr>\n",
              "    <tr>\n",
              "      <th>188</th>\n",
              "      <td>KR Puram</td>\n",
              "      <td>2 BHK</td>\n",
              "      <td>1015 - 1540</td>\n",
              "      <td>2.0</td>\n",
              "      <td>56.800</td>\n",
              "      <td>2</td>\n",
              "    </tr>\n",
              "    <tr>\n",
              "      <th>410</th>\n",
              "      <td>Kengeri</td>\n",
              "      <td>1 BHK</td>\n",
              "      <td>34.46Sq. Meter</td>\n",
              "      <td>1.0</td>\n",
              "      <td>18.500</td>\n",
              "      <td>1</td>\n",
              "    </tr>\n",
              "    <tr>\n",
              "      <th>549</th>\n",
              "      <td>Hennur Road</td>\n",
              "      <td>2 BHK</td>\n",
              "      <td>1195 - 1440</td>\n",
              "      <td>2.0</td>\n",
              "      <td>63.770</td>\n",
              "      <td>2</td>\n",
              "    </tr>\n",
              "    <tr>\n",
              "      <th>648</th>\n",
              "      <td>Arekere</td>\n",
              "      <td>9 Bedroom</td>\n",
              "      <td>4125Perch</td>\n",
              "      <td>9.0</td>\n",
              "      <td>265.000</td>\n",
              "      <td>9</td>\n",
              "    </tr>\n",
              "    <tr>\n",
              "      <th>661</th>\n",
              "      <td>Yelahanka</td>\n",
              "      <td>2 BHK</td>\n",
              "      <td>1120 - 1145</td>\n",
              "      <td>2.0</td>\n",
              "      <td>48.130</td>\n",
              "      <td>2</td>\n",
              "    </tr>\n",
              "    <tr>\n",
              "      <th>672</th>\n",
              "      <td>Bettahalsoor</td>\n",
              "      <td>4 Bedroom</td>\n",
              "      <td>3090 - 5002</td>\n",
              "      <td>4.0</td>\n",
              "      <td>445.000</td>\n",
              "      <td>4</td>\n",
              "    </tr>\n",
              "  </tbody>\n",
              "</table>\n",
              "</div>"
            ],
            "text/plain": [
              "               location       size      total_sqft  bath    price  Bedroom\n",
              "30            Yelahanka      4 BHK     2100 - 2850   4.0  186.000        4\n",
              "122              Hebbal      4 BHK     3067 - 8156   4.0  477.000        4\n",
              "137  8th Phase JP Nagar      2 BHK     1042 - 1105   2.0   54.005        2\n",
              "165            Sarjapur      2 BHK     1145 - 1340   2.0   43.490        2\n",
              "188            KR Puram      2 BHK     1015 - 1540   2.0   56.800        2\n",
              "410             Kengeri      1 BHK  34.46Sq. Meter   1.0   18.500        1\n",
              "549         Hennur Road      2 BHK     1195 - 1440   2.0   63.770        2\n",
              "648             Arekere  9 Bedroom       4125Perch   9.0  265.000        9\n",
              "661           Yelahanka      2 BHK     1120 - 1145   2.0   48.130        2\n",
              "672        Bettahalsoor  4 Bedroom     3090 - 5002   4.0  445.000        4"
            ]
          },
          "execution_count": 12,
          "metadata": {},
          "output_type": "execute_result"
        }
      ],
      "source": [
        "df3[~df3['total_sqft'].apply(is_float)].head(10)"
      ]
    },
    {
      "cell_type": "code",
      "execution_count": 13,
      "metadata": {
        "id": "igbt0z4c7Hl-"
      },
      "outputs": [],
      "source": [
        "def convert_sqft_to_num(x):\n",
        "  tokens = x.split('-')\n",
        "  if len(tokens) == 2:\n",
        "    return(float(tokens[0]) + float(tokens[1]))/2\n",
        "  try:\n",
        "    return float(x)\n",
        "  except:\n",
        "    return None"
      ]
    },
    {
      "cell_type": "code",
      "execution_count": 14,
      "metadata": {
        "colab": {
          "base_uri": "https://localhost:8080/"
        },
        "id": "f3F6f7HbCBnJ",
        "outputId": "e75bb56e-7d93-457c-ba31-b39d68a332fc"
      },
      "outputs": [
        {
          "data": {
            "text/plain": [
              "2166.0"
            ]
          },
          "execution_count": 14,
          "metadata": {},
          "output_type": "execute_result"
        }
      ],
      "source": [
        "convert_sqft_to_num('2166')"
      ]
    },
    {
      "cell_type": "code",
      "execution_count": 15,
      "metadata": {
        "colab": {
          "base_uri": "https://localhost:8080/",
          "height": 206
        },
        "id": "slHwUVGWCa31",
        "outputId": "42779708-eea9-42dc-e2d1-747cd2b1d56f"
      },
      "outputs": [
        {
          "data": {
            "text/html": [
              "<div>\n",
              "<style scoped>\n",
              "    .dataframe tbody tr th:only-of-type {\n",
              "        vertical-align: middle;\n",
              "    }\n",
              "\n",
              "    .dataframe tbody tr th {\n",
              "        vertical-align: top;\n",
              "    }\n",
              "\n",
              "    .dataframe thead th {\n",
              "        text-align: right;\n",
              "    }\n",
              "</style>\n",
              "<table border=\"1\" class=\"dataframe\">\n",
              "  <thead>\n",
              "    <tr style=\"text-align: right;\">\n",
              "      <th></th>\n",
              "      <th>location</th>\n",
              "      <th>size</th>\n",
              "      <th>total_sqft</th>\n",
              "      <th>bath</th>\n",
              "      <th>price</th>\n",
              "      <th>Bedroom</th>\n",
              "    </tr>\n",
              "  </thead>\n",
              "  <tbody>\n",
              "    <tr>\n",
              "      <th>0</th>\n",
              "      <td>Electronic City Phase II</td>\n",
              "      <td>2 BHK</td>\n",
              "      <td>1056.0</td>\n",
              "      <td>2.0</td>\n",
              "      <td>39.07</td>\n",
              "      <td>2</td>\n",
              "    </tr>\n",
              "    <tr>\n",
              "      <th>1</th>\n",
              "      <td>Chikka Tirupathi</td>\n",
              "      <td>4 Bedroom</td>\n",
              "      <td>2600.0</td>\n",
              "      <td>5.0</td>\n",
              "      <td>120.00</td>\n",
              "      <td>4</td>\n",
              "    </tr>\n",
              "    <tr>\n",
              "      <th>2</th>\n",
              "      <td>Uttarahalli</td>\n",
              "      <td>3 BHK</td>\n",
              "      <td>1440.0</td>\n",
              "      <td>2.0</td>\n",
              "      <td>62.00</td>\n",
              "      <td>3</td>\n",
              "    </tr>\n",
              "    <tr>\n",
              "      <th>3</th>\n",
              "      <td>Lingadheeranahalli</td>\n",
              "      <td>3 BHK</td>\n",
              "      <td>1521.0</td>\n",
              "      <td>3.0</td>\n",
              "      <td>95.00</td>\n",
              "      <td>3</td>\n",
              "    </tr>\n",
              "    <tr>\n",
              "      <th>4</th>\n",
              "      <td>Kothanur</td>\n",
              "      <td>2 BHK</td>\n",
              "      <td>1200.0</td>\n",
              "      <td>2.0</td>\n",
              "      <td>51.00</td>\n",
              "      <td>2</td>\n",
              "    </tr>\n",
              "  </tbody>\n",
              "</table>\n",
              "</div>"
            ],
            "text/plain": [
              "                   location       size  total_sqft  bath   price  Bedroom\n",
              "0  Electronic City Phase II      2 BHK      1056.0   2.0   39.07        2\n",
              "1          Chikka Tirupathi  4 Bedroom      2600.0   5.0  120.00        4\n",
              "2               Uttarahalli      3 BHK      1440.0   2.0   62.00        3\n",
              "3        Lingadheeranahalli      3 BHK      1521.0   3.0   95.00        3\n",
              "4                  Kothanur      2 BHK      1200.0   2.0   51.00        2"
            ]
          },
          "execution_count": 15,
          "metadata": {},
          "output_type": "execute_result"
        }
      ],
      "source": [
        "df4 = df3.copy()\n",
        "df4['total_sqft'] = df4['total_sqft'].apply(convert_sqft_to_num)\n",
        "df4.head()\n"
      ]
    },
    {
      "cell_type": "code",
      "execution_count": 16,
      "metadata": {
        "colab": {
          "base_uri": "https://localhost:8080/",
          "height": 272
        },
        "id": "uMTN8bDUDVDN",
        "outputId": "cd899476-26b1-460f-9004-18ebda048167"
      },
      "outputs": [
        {
          "data": {
            "text/plain": [
              "location      Yelahanka\n",
              "size              4 BHK\n",
              "total_sqft       2475.0\n",
              "bath                4.0\n",
              "price             186.0\n",
              "Bedroom               4\n",
              "Name: 30, dtype: object"
            ]
          },
          "execution_count": 16,
          "metadata": {},
          "output_type": "execute_result"
        }
      ],
      "source": [
        "df4.loc[30]"
      ]
    },
    {
      "cell_type": "code",
      "execution_count": 17,
      "metadata": {
        "colab": {
          "base_uri": "https://localhost:8080/",
          "height": 206
        },
        "id": "zoGofIr8D4eU",
        "outputId": "aecd8b98-a26f-4483-d3ce-094a88987da0"
      },
      "outputs": [
        {
          "data": {
            "text/html": [
              "<div>\n",
              "<style scoped>\n",
              "    .dataframe tbody tr th:only-of-type {\n",
              "        vertical-align: middle;\n",
              "    }\n",
              "\n",
              "    .dataframe tbody tr th {\n",
              "        vertical-align: top;\n",
              "    }\n",
              "\n",
              "    .dataframe thead th {\n",
              "        text-align: right;\n",
              "    }\n",
              "</style>\n",
              "<table border=\"1\" class=\"dataframe\">\n",
              "  <thead>\n",
              "    <tr style=\"text-align: right;\">\n",
              "      <th></th>\n",
              "      <th>location</th>\n",
              "      <th>size</th>\n",
              "      <th>total_sqft</th>\n",
              "      <th>bath</th>\n",
              "      <th>price</th>\n",
              "      <th>Bedroom</th>\n",
              "    </tr>\n",
              "  </thead>\n",
              "  <tbody>\n",
              "    <tr>\n",
              "      <th>0</th>\n",
              "      <td>Electronic City Phase II</td>\n",
              "      <td>2 BHK</td>\n",
              "      <td>1056.0</td>\n",
              "      <td>2.0</td>\n",
              "      <td>39.07</td>\n",
              "      <td>2</td>\n",
              "    </tr>\n",
              "    <tr>\n",
              "      <th>1</th>\n",
              "      <td>Chikka Tirupathi</td>\n",
              "      <td>4 Bedroom</td>\n",
              "      <td>2600.0</td>\n",
              "      <td>5.0</td>\n",
              "      <td>120.00</td>\n",
              "      <td>4</td>\n",
              "    </tr>\n",
              "    <tr>\n",
              "      <th>2</th>\n",
              "      <td>Uttarahalli</td>\n",
              "      <td>3 BHK</td>\n",
              "      <td>1440.0</td>\n",
              "      <td>2.0</td>\n",
              "      <td>62.00</td>\n",
              "      <td>3</td>\n",
              "    </tr>\n",
              "    <tr>\n",
              "      <th>3</th>\n",
              "      <td>Lingadheeranahalli</td>\n",
              "      <td>3 BHK</td>\n",
              "      <td>1521.0</td>\n",
              "      <td>3.0</td>\n",
              "      <td>95.00</td>\n",
              "      <td>3</td>\n",
              "    </tr>\n",
              "    <tr>\n",
              "      <th>4</th>\n",
              "      <td>Kothanur</td>\n",
              "      <td>2 BHK</td>\n",
              "      <td>1200.0</td>\n",
              "      <td>2.0</td>\n",
              "      <td>51.00</td>\n",
              "      <td>2</td>\n",
              "    </tr>\n",
              "  </tbody>\n",
              "</table>\n",
              "</div>"
            ],
            "text/plain": [
              "                   location       size  total_sqft  bath   price  Bedroom\n",
              "0  Electronic City Phase II      2 BHK      1056.0   2.0   39.07        2\n",
              "1          Chikka Tirupathi  4 Bedroom      2600.0   5.0  120.00        4\n",
              "2               Uttarahalli      3 BHK      1440.0   2.0   62.00        3\n",
              "3        Lingadheeranahalli      3 BHK      1521.0   3.0   95.00        3\n",
              "4                  Kothanur      2 BHK      1200.0   2.0   51.00        2"
            ]
          },
          "execution_count": 17,
          "metadata": {},
          "output_type": "execute_result"
        }
      ],
      "source": [
        "df4.head()"
      ]
    },
    {
      "cell_type": "code",
      "execution_count": 18,
      "metadata": {
        "colab": {
          "base_uri": "https://localhost:8080/",
          "height": 261
        },
        "id": "T1-olS6m3u80",
        "outputId": "68ace3e6-2ba3-45cc-92a3-ca58cf5305e3"
      },
      "outputs": [
        {
          "data": {
            "text/html": [
              "<div>\n",
              "<style scoped>\n",
              "    .dataframe tbody tr th:only-of-type {\n",
              "        vertical-align: middle;\n",
              "    }\n",
              "\n",
              "    .dataframe tbody tr th {\n",
              "        vertical-align: top;\n",
              "    }\n",
              "\n",
              "    .dataframe thead th {\n",
              "        text-align: right;\n",
              "    }\n",
              "</style>\n",
              "<table border=\"1\" class=\"dataframe\">\n",
              "  <thead>\n",
              "    <tr style=\"text-align: right;\">\n",
              "      <th></th>\n",
              "      <th>location</th>\n",
              "      <th>size</th>\n",
              "      <th>total_sqft</th>\n",
              "      <th>bath</th>\n",
              "      <th>price</th>\n",
              "      <th>Bedroom</th>\n",
              "      <th>price_per_sqft</th>\n",
              "    </tr>\n",
              "  </thead>\n",
              "  <tbody>\n",
              "    <tr>\n",
              "      <th>0</th>\n",
              "      <td>Electronic City Phase II</td>\n",
              "      <td>2 BHK</td>\n",
              "      <td>1056.0</td>\n",
              "      <td>2.0</td>\n",
              "      <td>39.07</td>\n",
              "      <td>2</td>\n",
              "      <td>3699.810606</td>\n",
              "    </tr>\n",
              "    <tr>\n",
              "      <th>1</th>\n",
              "      <td>Chikka Tirupathi</td>\n",
              "      <td>4 Bedroom</td>\n",
              "      <td>2600.0</td>\n",
              "      <td>5.0</td>\n",
              "      <td>120.00</td>\n",
              "      <td>4</td>\n",
              "      <td>4615.384615</td>\n",
              "    </tr>\n",
              "    <tr>\n",
              "      <th>2</th>\n",
              "      <td>Uttarahalli</td>\n",
              "      <td>3 BHK</td>\n",
              "      <td>1440.0</td>\n",
              "      <td>2.0</td>\n",
              "      <td>62.00</td>\n",
              "      <td>3</td>\n",
              "      <td>4305.555556</td>\n",
              "    </tr>\n",
              "    <tr>\n",
              "      <th>3</th>\n",
              "      <td>Lingadheeranahalli</td>\n",
              "      <td>3 BHK</td>\n",
              "      <td>1521.0</td>\n",
              "      <td>3.0</td>\n",
              "      <td>95.00</td>\n",
              "      <td>3</td>\n",
              "      <td>6245.890861</td>\n",
              "    </tr>\n",
              "    <tr>\n",
              "      <th>4</th>\n",
              "      <td>Kothanur</td>\n",
              "      <td>2 BHK</td>\n",
              "      <td>1200.0</td>\n",
              "      <td>2.0</td>\n",
              "      <td>51.00</td>\n",
              "      <td>2</td>\n",
              "      <td>4250.000000</td>\n",
              "    </tr>\n",
              "  </tbody>\n",
              "</table>\n",
              "</div>"
            ],
            "text/plain": [
              "                   location       size  total_sqft  bath   price  Bedroom  \\\n",
              "0  Electronic City Phase II      2 BHK      1056.0   2.0   39.07        2   \n",
              "1          Chikka Tirupathi  4 Bedroom      2600.0   5.0  120.00        4   \n",
              "2               Uttarahalli      3 BHK      1440.0   2.0   62.00        3   \n",
              "3        Lingadheeranahalli      3 BHK      1521.0   3.0   95.00        3   \n",
              "4                  Kothanur      2 BHK      1200.0   2.0   51.00        2   \n",
              "\n",
              "   price_per_sqft  \n",
              "0     3699.810606  \n",
              "1     4615.384615  \n",
              "2     4305.555556  \n",
              "3     6245.890861  \n",
              "4     4250.000000  "
            ]
          },
          "execution_count": 18,
          "metadata": {},
          "output_type": "execute_result"
        }
      ],
      "source": [
        "df5 = df4.copy()\n",
        "df5['price_per_sqft'] = df5['price']*100000/df5['total_sqft']\n",
        "df5.head()"
      ]
    },
    {
      "cell_type": "code",
      "execution_count": 19,
      "metadata": {
        "colab": {
          "base_uri": "https://localhost:8080/"
        },
        "id": "JtCwqhyo6vo3",
        "outputId": "b3ffb356-4d90-480b-dbfd-80161442dd42"
      },
      "outputs": [
        {
          "data": {
            "text/plain": [
              "1304"
            ]
          },
          "execution_count": 19,
          "metadata": {},
          "output_type": "execute_result"
        }
      ],
      "source": [
        "len(df5.location.unique())"
      ]
    },
    {
      "cell_type": "code",
      "execution_count": 20,
      "metadata": {
        "colab": {
          "base_uri": "https://localhost:8080/",
          "height": 489
        },
        "id": "uCuHIvLZ9g-x",
        "outputId": "76599924-e9eb-491b-cb1c-40e4898e375f"
      },
      "outputs": [
        {
          "data": {
            "text/plain": [
              "location\n",
              "Whitefield               535\n",
              "Sarjapur  Road           392\n",
              "Electronic City          304\n",
              "Kanakpura Road           266\n",
              "Thanisandra              236\n",
              "                        ... \n",
              "1 Giri Nagar               1\n",
              "Kanakapura Road,           1\n",
              "Kanakapura main  Road      1\n",
              "Karnataka Shabarimala      1\n",
              "whitefiled                 1\n",
              "Name: location, Length: 1293, dtype: int64"
            ]
          },
          "execution_count": 20,
          "metadata": {},
          "output_type": "execute_result"
        }
      ],
      "source": [
        "df5.location = df5.location.apply(lambda x: x.strip())\n",
        "location_stats = df5.groupby('location')['location'].agg('count').sort_values(ascending = False)\n",
        "location_stats"
      ]
    },
    {
      "cell_type": "code",
      "execution_count": 21,
      "metadata": {
        "colab": {
          "base_uri": "https://localhost:8080/"
        },
        "id": "Lzo8oXb6B6vB",
        "outputId": "afd3c852-09d6-48cd-a14d-708b1be11547"
      },
      "outputs": [
        {
          "data": {
            "text/plain": [
              "1052"
            ]
          },
          "execution_count": 21,
          "metadata": {},
          "output_type": "execute_result"
        }
      ],
      "source": [
        "len(location_stats[location_stats<=10])"
      ]
    },
    {
      "cell_type": "code",
      "execution_count": 22,
      "metadata": {
        "colab": {
          "base_uri": "https://localhost:8080/",
          "height": 489
        },
        "id": "zbn2pqwbC3Bc",
        "outputId": "9ae4be84-0100-4dac-d8e8-198b773eccbd"
      },
      "outputs": [
        {
          "data": {
            "text/plain": [
              "location\n",
              "Basapura                 10\n",
              "1st Block Koramangala    10\n",
              "Gunjur Palya             10\n",
              "Kalkere                  10\n",
              "Sector 1 HSR Layout      10\n",
              "                         ..\n",
              "1 Giri Nagar              1\n",
              "Kanakapura Road,          1\n",
              "Kanakapura main  Road     1\n",
              "Karnataka Shabarimala     1\n",
              "whitefiled                1\n",
              "Name: location, Length: 1052, dtype: int64"
            ]
          },
          "execution_count": 22,
          "metadata": {},
          "output_type": "execute_result"
        }
      ],
      "source": [
        "location_stats_less_than_10 = location_stats[location_stats<=10]\n",
        "location_stats_less_than_10"
      ]
    },
    {
      "cell_type": "markdown",
      "metadata": {
        "id": "QpoZgXqhDLH9"
      },
      "source": []
    },
    {
      "cell_type": "code",
      "execution_count": 23,
      "metadata": {
        "colab": {
          "base_uri": "https://localhost:8080/"
        },
        "id": "u2IjkWeRDEEX",
        "outputId": "ca03ba7f-08cf-4d16-dda5-d2a9f1299d55"
      },
      "outputs": [
        {
          "data": {
            "text/plain": [
              "242"
            ]
          },
          "execution_count": 23,
          "metadata": {},
          "output_type": "execute_result"
        }
      ],
      "source": [
        "# apply(lambda x: x.strip()) → Removes any leading or trailing spaces in the 'location' column.\n",
        "# Ensures consistency in location names (e.g., \" New York\" becomes \"New York\")\n",
        "#df5.groupby('location') → Groups the DataFrame by the 'location' column.\n",
        "#['location'].agg('count') → Counts how many times each location appears\n",
        "\n",
        "df5.location = df5.location.apply(lambda x : 'other' if x in location_stats_less_than_10 else x)\n",
        "len(df5.location.unique())"
      ]
    },
    {
      "cell_type": "code",
      "execution_count": 24,
      "metadata": {
        "colab": {
          "base_uri": "https://localhost:8080/",
          "height": 261
        },
        "id": "3kEhB1S7EHZJ",
        "outputId": "46e3ff69-5c99-4258-b48b-ad8189e52bd9"
      },
      "outputs": [
        {
          "data": {
            "text/html": [
              "<div>\n",
              "<style scoped>\n",
              "    .dataframe tbody tr th:only-of-type {\n",
              "        vertical-align: middle;\n",
              "    }\n",
              "\n",
              "    .dataframe tbody tr th {\n",
              "        vertical-align: top;\n",
              "    }\n",
              "\n",
              "    .dataframe thead th {\n",
              "        text-align: right;\n",
              "    }\n",
              "</style>\n",
              "<table border=\"1\" class=\"dataframe\">\n",
              "  <thead>\n",
              "    <tr style=\"text-align: right;\">\n",
              "      <th></th>\n",
              "      <th>location</th>\n",
              "      <th>size</th>\n",
              "      <th>total_sqft</th>\n",
              "      <th>bath</th>\n",
              "      <th>price</th>\n",
              "      <th>Bedroom</th>\n",
              "      <th>price_per_sqft</th>\n",
              "    </tr>\n",
              "  </thead>\n",
              "  <tbody>\n",
              "    <tr>\n",
              "      <th>0</th>\n",
              "      <td>Electronic City Phase II</td>\n",
              "      <td>2 BHK</td>\n",
              "      <td>1056.0</td>\n",
              "      <td>2.0</td>\n",
              "      <td>39.07</td>\n",
              "      <td>2</td>\n",
              "      <td>3699.810606</td>\n",
              "    </tr>\n",
              "    <tr>\n",
              "      <th>1</th>\n",
              "      <td>Chikka Tirupathi</td>\n",
              "      <td>4 Bedroom</td>\n",
              "      <td>2600.0</td>\n",
              "      <td>5.0</td>\n",
              "      <td>120.00</td>\n",
              "      <td>4</td>\n",
              "      <td>4615.384615</td>\n",
              "    </tr>\n",
              "    <tr>\n",
              "      <th>2</th>\n",
              "      <td>Uttarahalli</td>\n",
              "      <td>3 BHK</td>\n",
              "      <td>1440.0</td>\n",
              "      <td>2.0</td>\n",
              "      <td>62.00</td>\n",
              "      <td>3</td>\n",
              "      <td>4305.555556</td>\n",
              "    </tr>\n",
              "    <tr>\n",
              "      <th>3</th>\n",
              "      <td>Lingadheeranahalli</td>\n",
              "      <td>3 BHK</td>\n",
              "      <td>1521.0</td>\n",
              "      <td>3.0</td>\n",
              "      <td>95.00</td>\n",
              "      <td>3</td>\n",
              "      <td>6245.890861</td>\n",
              "    </tr>\n",
              "    <tr>\n",
              "      <th>4</th>\n",
              "      <td>Kothanur</td>\n",
              "      <td>2 BHK</td>\n",
              "      <td>1200.0</td>\n",
              "      <td>2.0</td>\n",
              "      <td>51.00</td>\n",
              "      <td>2</td>\n",
              "      <td>4250.000000</td>\n",
              "    </tr>\n",
              "  </tbody>\n",
              "</table>\n",
              "</div>"
            ],
            "text/plain": [
              "                   location       size  total_sqft  bath   price  Bedroom  \\\n",
              "0  Electronic City Phase II      2 BHK      1056.0   2.0   39.07        2   \n",
              "1          Chikka Tirupathi  4 Bedroom      2600.0   5.0  120.00        4   \n",
              "2               Uttarahalli      3 BHK      1440.0   2.0   62.00        3   \n",
              "3        Lingadheeranahalli      3 BHK      1521.0   3.0   95.00        3   \n",
              "4                  Kothanur      2 BHK      1200.0   2.0   51.00        2   \n",
              "\n",
              "   price_per_sqft  \n",
              "0     3699.810606  \n",
              "1     4615.384615  \n",
              "2     4305.555556  \n",
              "3     6245.890861  \n",
              "4     4250.000000  "
            ]
          },
          "execution_count": 24,
          "metadata": {},
          "output_type": "execute_result"
        }
      ],
      "source": [
        "df5.head()"
      ]
    },
    {
      "cell_type": "code",
      "execution_count": 25,
      "metadata": {
        "colab": {
          "base_uri": "https://localhost:8080/",
          "height": 313
        },
        "id": "sfqGC_f4vjIq",
        "outputId": "a9311f2d-cb5e-466e-b0f4-357b81808499"
      },
      "outputs": [
        {
          "data": {
            "text/html": [
              "<div>\n",
              "<style scoped>\n",
              "    .dataframe tbody tr th:only-of-type {\n",
              "        vertical-align: middle;\n",
              "    }\n",
              "\n",
              "    .dataframe tbody tr th {\n",
              "        vertical-align: top;\n",
              "    }\n",
              "\n",
              "    .dataframe thead th {\n",
              "        text-align: right;\n",
              "    }\n",
              "</style>\n",
              "<table border=\"1\" class=\"dataframe\">\n",
              "  <thead>\n",
              "    <tr style=\"text-align: right;\">\n",
              "      <th></th>\n",
              "      <th>location</th>\n",
              "      <th>size</th>\n",
              "      <th>total_sqft</th>\n",
              "      <th>bath</th>\n",
              "      <th>price</th>\n",
              "      <th>Bedroom</th>\n",
              "      <th>price_per_sqft</th>\n",
              "    </tr>\n",
              "  </thead>\n",
              "  <tbody>\n",
              "    <tr>\n",
              "      <th>9</th>\n",
              "      <td>other</td>\n",
              "      <td>6 Bedroom</td>\n",
              "      <td>1020.0</td>\n",
              "      <td>6.0</td>\n",
              "      <td>370.0</td>\n",
              "      <td>6</td>\n",
              "      <td>36274.509804</td>\n",
              "    </tr>\n",
              "    <tr>\n",
              "      <th>45</th>\n",
              "      <td>HSR Layout</td>\n",
              "      <td>8 Bedroom</td>\n",
              "      <td>600.0</td>\n",
              "      <td>9.0</td>\n",
              "      <td>200.0</td>\n",
              "      <td>8</td>\n",
              "      <td>33333.333333</td>\n",
              "    </tr>\n",
              "    <tr>\n",
              "      <th>58</th>\n",
              "      <td>Murugeshpalya</td>\n",
              "      <td>6 Bedroom</td>\n",
              "      <td>1407.0</td>\n",
              "      <td>4.0</td>\n",
              "      <td>150.0</td>\n",
              "      <td>6</td>\n",
              "      <td>10660.980810</td>\n",
              "    </tr>\n",
              "    <tr>\n",
              "      <th>68</th>\n",
              "      <td>Devarachikkanahalli</td>\n",
              "      <td>8 Bedroom</td>\n",
              "      <td>1350.0</td>\n",
              "      <td>7.0</td>\n",
              "      <td>85.0</td>\n",
              "      <td>8</td>\n",
              "      <td>6296.296296</td>\n",
              "    </tr>\n",
              "    <tr>\n",
              "      <th>70</th>\n",
              "      <td>other</td>\n",
              "      <td>3 Bedroom</td>\n",
              "      <td>500.0</td>\n",
              "      <td>3.0</td>\n",
              "      <td>100.0</td>\n",
              "      <td>3</td>\n",
              "      <td>20000.000000</td>\n",
              "    </tr>\n",
              "  </tbody>\n",
              "</table>\n",
              "</div>"
            ],
            "text/plain": [
              "               location       size  total_sqft  bath  price  Bedroom  \\\n",
              "9                 other  6 Bedroom      1020.0   6.0  370.0        6   \n",
              "45           HSR Layout  8 Bedroom       600.0   9.0  200.0        8   \n",
              "58        Murugeshpalya  6 Bedroom      1407.0   4.0  150.0        6   \n",
              "68  Devarachikkanahalli  8 Bedroom      1350.0   7.0   85.0        8   \n",
              "70                other  3 Bedroom       500.0   3.0  100.0        3   \n",
              "\n",
              "    price_per_sqft  \n",
              "9     36274.509804  \n",
              "45    33333.333333  \n",
              "58    10660.980810  \n",
              "68     6296.296296  \n",
              "70    20000.000000  "
            ]
          },
          "execution_count": 25,
          "metadata": {},
          "output_type": "execute_result"
        }
      ],
      "source": [
        "df5[df5.total_sqft/df5.Bedroom<300].head()"
      ]
    },
    {
      "cell_type": "code",
      "execution_count": 26,
      "metadata": {
        "colab": {
          "base_uri": "https://localhost:8080/"
        },
        "id": "e9-_xVtIz0J-",
        "outputId": "318ecd11-974c-4b3d-b9df-4f999466dbfd"
      },
      "outputs": [
        {
          "data": {
            "text/plain": [
              "(13246, 7)"
            ]
          },
          "execution_count": 26,
          "metadata": {},
          "output_type": "execute_result"
        }
      ],
      "source": [
        "df5.shape"
      ]
    },
    {
      "cell_type": "code",
      "execution_count": 27,
      "metadata": {
        "colab": {
          "base_uri": "https://localhost:8080/"
        },
        "id": "nVpnbomYTvqH",
        "outputId": "f5546e8d-2f65-449f-c663-2a17775f504f"
      },
      "outputs": [
        {
          "data": {
            "text/plain": [
              "(12502, 7)"
            ]
          },
          "execution_count": 27,
          "metadata": {},
          "output_type": "execute_result"
        }
      ],
      "source": [
        "#df5.total_sqft / df5.Bedroom < 300 →\n",
        "#Creates a condition to check if square feet per bedroom is less than 300.\n",
        "\n",
        "#~(...) (Tilde ~) →\n",
        "#Negates the condition, meaning it keeps only rows where sqft/bedroom is 300 or more.\n",
        "\n",
        "#df5[...] →\n",
        "#Selects and stores the filtered DataFrame in df6.\n",
        "\n",
        "#df6.shape →\n",
        "#Returns the number of rows and columns in df6.\n",
        "\n",
        "df6 = df5[~(df5.total_sqft/df5.Bedroom < 300)]\n",
        "df6.shape"
      ]
    },
    {
      "cell_type": "code",
      "execution_count": 28,
      "metadata": {
        "colab": {
          "base_uri": "https://localhost:8080/",
          "height": 335
        },
        "id": "fyTbZvwl3amP",
        "outputId": "542a2879-7caa-4ded-bd3c-e4a39814ca53"
      },
      "outputs": [
        {
          "data": {
            "text/plain": [
              "count     12456.000000\n",
              "mean       6308.502826\n",
              "std        4168.127339\n",
              "min         267.829813\n",
              "25%        4210.526316\n",
              "50%        5294.117647\n",
              "75%        6916.666667\n",
              "max      176470.588235\n",
              "Name: price_per_sqft, dtype: float64"
            ]
          },
          "execution_count": 28,
          "metadata": {},
          "output_type": "execute_result"
        }
      ],
      "source": [
        "df6.price_per_sqft.describe()"
      ]
    },
    {
      "cell_type": "code",
      "execution_count": 29,
      "metadata": {
        "colab": {
          "base_uri": "https://localhost:8080/"
        },
        "id": "RVRjlsgW3hFP",
        "outputId": "8b8043ef-adf0-4c71-8ec2-90c330cae67d"
      },
      "outputs": [
        {
          "data": {
            "text/plain": [
              "(10241, 7)"
            ]
          },
          "execution_count": 29,
          "metadata": {},
          "output_type": "execute_result"
        }
      ],
      "source": [
        "#Create an empty DataFrame (df_out) → This will store the cleaned data.\n",
        "\n",
        "#Group by 'location' →\n",
        "    #The function processes each location separately.\n",
        "    #This ensures we remove outliers relative to each location, not the entire dataset.\n",
        "\n",
        "#Calculate mean and standard deviation of price_per_sqft for each location.\n",
        "\n",
        "#Filter data using standard deviation:\n",
        "    #Keeps only values within one standard deviation of the mean.\n",
        "    #Removes extreme outliers (both low and high[range ekt wada godak wadi values]).\n",
        "\n",
        "#Concatenate the filtered data into df_out.\n",
        "\n",
        "#Return the cleaned DataFrame (df_out).\n",
        "\n",
        "def remove_pps_outliers(df):\n",
        "  df_out = pd.DataFrame()\n",
        "  for key, subdf in df.groupby('location'):\n",
        "    m = np.mean(subdf.price_per_sqft)\n",
        "    st = np.std(subdf.price_per_sqft)\n",
        "    reduced_df = subdf[(subdf.price_per_sqft > (m-st)) & (subdf.price_per_sqft <= (m+st))]\n",
        "    df_out = pd.concat([df_out,reduced_df],ignore_index=True)\n",
        "  return df_out\n",
        "\n",
        "df7 = remove_pps_outliers(df6)\n",
        "df7.shape"
      ]
    },
    {
      "cell_type": "code",
      "execution_count": 30,
      "metadata": {
        "colab": {
          "base_uri": "https://localhost:8080/",
          "height": 451
        },
        "id": "9M0eZ0f1LmDZ",
        "outputId": "fb7ca9e9-b210-42ab-e80c-a7d96a7581f5"
      },
      "outputs": [
        {
          "data": {
            "image/png": "[encoded data removed]",
            "text/plain": [
              "<Figure size 1500x1000 with 1 Axes>"
            ]
          },
          "metadata": {},
          "output_type": "display_data"
        }
      ],
      "source": [
        "### **Simple Explanation of the Code**\n",
        "\n",
        "#This function **plots a scatter chart** to compare the price of **2-bedroom and 3-bedroom houses** in a given location.\n",
        "\n",
        "\n",
        "\n",
        "### **Step-by-Step Breakdown:**\n",
        "# **Filter the data based on location and number of bedrooms**\n",
        "  # - `Bedroom2`: Selects houses with **2 bedrooms** in the given `location`.\n",
        "   #- `Bedroom3`: Selects houses with **3 bedrooms** in the given `location`.\n",
        "\n",
        "#2. **Set figure size**\n",
        "  # - `matplotlib.rcParams['figure.figsize'] = (15, 10)`:\n",
        "   #  - Makes the graph bigger (**15 inches wide and 10 inches tall**).\n",
        "\n",
        "#3. **Plot the scatter points**\n",
        "  # - `plt.scatter(Bedroom2.total_sqft, Bedroom2.price, color='red', label='2 Bedroom', s=50)`:\n",
        "  #  - **Red dots** represent **2-bedroom houses**.\n",
        "  # - `total_sqft` (size of house) on **X-axis**.\n",
        "  #   - `price` on **Y-axis**.\n",
        "  # - `plt.scatter(Bedroom3.total_sqft, Bedroom3.price, marker='+', color='green', label='3 Bedroom', s=50)`:\n",
        "  #   - **Green plus signs** represent **3-bedroom houses**.\n",
        "\n",
        " # 4. **Label the axes and add a title**\n",
        "   #  - `plt.xlabel(\"Total Square Feet Area\")`: Labels X-axis.\n",
        "   # - `plt.ylabel(\"Price\")`: Labels Y-axis.\n",
        "   # - `plt.title(location)`: Title of the chart (shows location name).\n",
        "\n",
        " # 5. **Add a legend**\n",
        "    # - `plt.legend()`: Displays labels for **2-bedroom (red)** and **3-bedroom (green)** houses.\n",
        "\n",
        "#6. **Calling the function**\n",
        "  # - `plot_scatter_chart(df7, \"Hebbal\")`:\n",
        "   #  - Plots data for **Hebbal** using the dataset `df7`.\n",
        "\n",
        "\n",
        "\n",
        "### **What the Chart Shows:**\n",
        "#- **Red dots** = 2-bedroom houses.\n",
        "#- **Green plus signs** = 3-bedroom houses.\n",
        "#- Helps compare **price vs. house size** for different bedroom types.\n",
        "\n",
        "\n",
        "def plot_scatter_chart(df,location):\n",
        "  Bedroom2 = df[(df.location == location) & (df.Bedroom == 2)]\n",
        "  Bedroom3 = df[(df.location == location) & (df.Bedroom == 3)]\n",
        "  matplotlib.rcParams['figure.figsize'] = (15, 10)\n",
        "  plt.scatter(Bedroom2.total_sqft,Bedroom2.price,color='red',label='2 Bedroom',s=50)\n",
        "  plt.scatter(Bedroom3.total_sqft,Bedroom3.price,marker='+',color='green',label='3 Bedroom',s=50)\n",
        "  plt.xlabel(\"Total Square Feet Area\")\n",
        "  plt.ylabel(\"Price\")\n",
        "  plt.title(location)\n",
        "  plt.legend()\n",
        "\n",
        "plot_scatter_chart(df7,\"Hebbal\")\n",
        "plt.show()"
      ]
    },
    {
      "cell_type": "code",
      "execution_count": 31,
      "metadata": {
        "colab": {
          "base_uri": "https://localhost:8080/"
        },
        "id": "FW5GkoSOdlu4",
        "outputId": "c60f70db-65e6-445c-930c-297db92eb8ba"
      },
      "outputs": [
        {
          "data": {
            "text/plain": [
              "(7329, 7)"
            ]
          },
          "execution_count": 31,
          "metadata": {},
          "output_type": "execute_result"
        }
      ],
      "source": [
        "#each location separately in the dataset.\n",
        "#For each number of bedrooms, it calculates the average price per square foot and how much the prices vary.\n",
        "#Then, it checks if homes with more bedrooms have a much lower price per square foot than expected.\n",
        "#If a home’s price per square foot is lower than the average of homes with one less bedroom, it gets removed (but only if there are at least 5 similar homes for comparison).\n",
        "#The cleaned data is saved in df8\n",
        "\n",
        "def remove_Bedrooms_outliers(df):\n",
        "  exclude_indices = np.array([])\n",
        "  for location, location_df in df.groupby('location'):\n",
        "    Bedroom_stats = {}\n",
        "    for Bedroom, Bedroom_df in location_df.groupby('Bedroom'):\n",
        "      Bedroom_stats[Bedroom] = {\n",
        "          'mean':np.mean(Bedroom_df.price_per_sqft),\n",
        "          'std':np.std(Bedroom_df.price_per_sqft),\n",
        "          'count': Bedroom_df.shape[0]\n",
        "      }\n",
        "    for Bedroom, Bedroom_df in location_df.groupby('Bedroom'):\n",
        "      stats = Bedroom_stats.get(Bedroom-1)\n",
        "      if stats and stats['count'] > 5:\n",
        "        exclude_indices = np.append(exclude_indices,Bedroom_df[Bedroom_df.price_per_sqft<(stats['mean'])].index.values)\n",
        "  return df.drop(exclude_indices,axis = 'index')\n",
        "\n",
        "df8 = remove_Bedrooms_outliers(df7)\n",
        "df8.shape"
      ]
    },
    {
      "cell_type": "code",
      "execution_count": 32,
      "metadata": {
        "colab": {
          "base_uri": "https://localhost:8080/",
          "height": 451
        },
        "id": "4rdlCbkGiiBR",
        "outputId": "13033d9f-fd4e-468f-cea3-25b56151fc65"
      },
      "outputs": [
        {
          "data": {
            "image/png": "[encoded data removed]",
            "text/plain": [
              "<Figure size 1500x1000 with 1 Axes>"
            ]
          },
          "metadata": {},
          "output_type": "display_data"
        }
      ],
      "source": [
        "plot_scatter_chart(df8,\"Hebbal\")"
      ]
    },
    {
      "cell_type": "code",
      "execution_count": 33,
      "metadata": {
        "colab": {
          "base_uri": "https://localhost:8080/",
          "height": 355
        },
        "id": "blCzB8Dzitqs",
        "outputId": "66a8d2da-1cf8-4f75-c7f1-1ab0348f6020"
      },
      "outputs": [
        {
          "data": {
            "text/plain": [
              "Text(0, 0.5, 'Count')"
            ]
          },
          "execution_count": 33,
          "metadata": {},
          "output_type": "execute_result"
        },
        {
          "data": {
            "image/png": "[encoded data removed]",
            "text/plain": [
              "<Figure size 2000x1000 with 1 Axes>"
            ]
          },
          "metadata": {},
          "output_type": "display_data"
        }
      ],
      "source": [
        "import matplotlib\n",
        "matplotlib.rcParams['figure.figsize'] = (20,10)\n",
        "plt.hist(df8.price_per_sqft,rwidth=0.8)\n",
        "plt.xlabel('Price Per Square Feet ')\n",
        "plt.ylabel(\"Count\")"
      ]
    },
    {
      "cell_type": "code",
      "execution_count": 34,
      "metadata": {
        "id": "yP07rQ-PTsnl"
      },
      "outputs": [
        {
          "data": {
            "text/plain": [
              "array([ 4.,  3.,  2.,  5.,  8.,  1.,  6.,  7.,  9., 12., 16., 13.])"
            ]
          },
          "execution_count": 34,
          "metadata": {},
          "output_type": "execute_result"
        }
      ],
      "source": [
        "#lists all the different numbers of bathrooms that appear in the dataset.\n",
        "\n",
        "df8.bath.unique()\n"
      ]
    },
    {
      "cell_type": "code",
      "execution_count": 35,
      "metadata": {
        "id": "SQi2MDhPYif8"
      },
      "outputs": [
        {
          "data": {
            "text/html": [
              "<div>\n",
              "<style scoped>\n",
              "    .dataframe tbody tr th:only-of-type {\n",
              "        vertical-align: middle;\n",
              "    }\n",
              "\n",
              "    .dataframe tbody tr th {\n",
              "        vertical-align: top;\n",
              "    }\n",
              "\n",
              "    .dataframe thead th {\n",
              "        text-align: right;\n",
              "    }\n",
              "</style>\n",
              "<table border=\"1\" class=\"dataframe\">\n",
              "  <thead>\n",
              "    <tr style=\"text-align: right;\">\n",
              "      <th></th>\n",
              "      <th>location</th>\n",
              "      <th>size</th>\n",
              "      <th>total_sqft</th>\n",
              "      <th>bath</th>\n",
              "      <th>price</th>\n",
              "      <th>Bedroom</th>\n",
              "      <th>price_per_sqft</th>\n",
              "    </tr>\n",
              "  </thead>\n",
              "  <tbody>\n",
              "    <tr>\n",
              "      <th>5277</th>\n",
              "      <td>Neeladri Nagar</td>\n",
              "      <td>10 BHK</td>\n",
              "      <td>4000.0</td>\n",
              "      <td>12.0</td>\n",
              "      <td>160.0</td>\n",
              "      <td>10</td>\n",
              "      <td>4000.000000</td>\n",
              "    </tr>\n",
              "    <tr>\n",
              "      <th>8486</th>\n",
              "      <td>other</td>\n",
              "      <td>10 BHK</td>\n",
              "      <td>12000.0</td>\n",
              "      <td>12.0</td>\n",
              "      <td>525.0</td>\n",
              "      <td>10</td>\n",
              "      <td>4375.000000</td>\n",
              "    </tr>\n",
              "    <tr>\n",
              "      <th>8575</th>\n",
              "      <td>other</td>\n",
              "      <td>16 BHK</td>\n",
              "      <td>10000.0</td>\n",
              "      <td>16.0</td>\n",
              "      <td>550.0</td>\n",
              "      <td>16</td>\n",
              "      <td>5500.000000</td>\n",
              "    </tr>\n",
              "    <tr>\n",
              "      <th>9308</th>\n",
              "      <td>other</td>\n",
              "      <td>11 BHK</td>\n",
              "      <td>6000.0</td>\n",
              "      <td>12.0</td>\n",
              "      <td>150.0</td>\n",
              "      <td>11</td>\n",
              "      <td>2500.000000</td>\n",
              "    </tr>\n",
              "    <tr>\n",
              "      <th>9639</th>\n",
              "      <td>other</td>\n",
              "      <td>13 BHK</td>\n",
              "      <td>5425.0</td>\n",
              "      <td>13.0</td>\n",
              "      <td>275.0</td>\n",
              "      <td>13</td>\n",
              "      <td>5069.124424</td>\n",
              "    </tr>\n",
              "  </tbody>\n",
              "</table>\n",
              "</div>"
            ],
            "text/plain": [
              "            location    size  total_sqft  bath  price  Bedroom  price_per_sqft\n",
              "5277  Neeladri Nagar  10 BHK      4000.0  12.0  160.0       10     4000.000000\n",
              "8486           other  10 BHK     12000.0  12.0  525.0       10     4375.000000\n",
              "8575           other  16 BHK     10000.0  16.0  550.0       16     5500.000000\n",
              "9308           other  11 BHK      6000.0  12.0  150.0       11     2500.000000\n",
              "9639           other  13 BHK      5425.0  13.0  275.0       13     5069.124424"
            ]
          },
          "execution_count": 35,
          "metadata": {},
          "output_type": "execute_result"
        }
      ],
      "source": [
        "#displays houses that have more than 10 bathrooms\n",
        "\n",
        "df8[df8.bath>10]"
      ]
    },
    {
      "cell_type": "code",
      "execution_count": 36,
      "metadata": {},
      "outputs": [
        {
          "data": {
            "text/plain": [
              "Text(0, 0.5, 'count')"
            ]
          },
          "execution_count": 36,
          "metadata": {},
          "output_type": "execute_result"
        },
        {
          "data": {
            "image/png": "[encoded data removed]",
            "text/plain": [
              "<Figure size 2000x1000 with 1 Axes>"
            ]
          },
          "metadata": {},
          "output_type": "display_data"
        }
      ],
      "source": [
        "#creates a bar chart that shows how many houses have 1, 2, 3, or more bathrooms.\n",
        "\n",
        "plt.hist(df8.bath,rwidth=0.8)\n",
        "plt.xlabel(\"Number of bathrooms\")\n",
        "plt.ylabel(\"count\")"
      ]
    },
    {
      "cell_type": "code",
      "execution_count": 37,
      "metadata": {},
      "outputs": [
        {
          "data": {
            "text/html": [
              "<div>\n",
              "<style scoped>\n",
              "    .dataframe tbody tr th:only-of-type {\n",
              "        vertical-align: middle;\n",
              "    }\n",
              "\n",
              "    .dataframe tbody tr th {\n",
              "        vertical-align: top;\n",
              "    }\n",
              "\n",
              "    .dataframe thead th {\n",
              "        text-align: right;\n",
              "    }\n",
              "</style>\n",
              "<table border=\"1\" class=\"dataframe\">\n",
              "  <thead>\n",
              "    <tr style=\"text-align: right;\">\n",
              "      <th></th>\n",
              "      <th>location</th>\n",
              "      <th>size</th>\n",
              "      <th>total_sqft</th>\n",
              "      <th>bath</th>\n",
              "      <th>price</th>\n",
              "      <th>Bedroom</th>\n",
              "      <th>price_per_sqft</th>\n",
              "    </tr>\n",
              "  </thead>\n",
              "  <tbody>\n",
              "    <tr>\n",
              "      <th>1626</th>\n",
              "      <td>Chikkabanavar</td>\n",
              "      <td>4 Bedroom</td>\n",
              "      <td>2460.0</td>\n",
              "      <td>7.0</td>\n",
              "      <td>80.0</td>\n",
              "      <td>4</td>\n",
              "      <td>3252.032520</td>\n",
              "    </tr>\n",
              "    <tr>\n",
              "      <th>5238</th>\n",
              "      <td>Nagasandra</td>\n",
              "      <td>4 Bedroom</td>\n",
              "      <td>7000.0</td>\n",
              "      <td>8.0</td>\n",
              "      <td>450.0</td>\n",
              "      <td>4</td>\n",
              "      <td>6428.571429</td>\n",
              "    </tr>\n",
              "    <tr>\n",
              "      <th>6711</th>\n",
              "      <td>Thanisandra</td>\n",
              "      <td>3 BHK</td>\n",
              "      <td>1806.0</td>\n",
              "      <td>6.0</td>\n",
              "      <td>116.0</td>\n",
              "      <td>3</td>\n",
              "      <td>6423.034330</td>\n",
              "    </tr>\n",
              "    <tr>\n",
              "      <th>8411</th>\n",
              "      <td>other</td>\n",
              "      <td>6 BHK</td>\n",
              "      <td>11338.0</td>\n",
              "      <td>9.0</td>\n",
              "      <td>1000.0</td>\n",
              "      <td>6</td>\n",
              "      <td>8819.897689</td>\n",
              "    </tr>\n",
              "  </tbody>\n",
              "</table>\n",
              "</div>"
            ],
            "text/plain": [
              "           location       size  total_sqft  bath   price  Bedroom  \\\n",
              "1626  Chikkabanavar  4 Bedroom      2460.0   7.0    80.0        4   \n",
              "5238     Nagasandra  4 Bedroom      7000.0   8.0   450.0        4   \n",
              "6711    Thanisandra      3 BHK      1806.0   6.0   116.0        3   \n",
              "8411          other      6 BHK     11338.0   9.0  1000.0        6   \n",
              "\n",
              "      price_per_sqft  \n",
              "1626     3252.032520  \n",
              "5238     6428.571429  \n",
              "6711     6423.034330  \n",
              "8411     8819.897689  "
            ]
          },
          "execution_count": 37,
          "metadata": {},
          "output_type": "execute_result"
        }
      ],
      "source": [
        "#finds houses where there are too many bathrooms compared to bedrooms (more than 2 extra bathrooms)\n",
        "\n",
        "df8[df8.bath > df8.Bedroom+2]"
      ]
    },
    {
      "cell_type": "code",
      "execution_count": 39,
      "metadata": {},
      "outputs": [
        {
          "data": {
            "text/plain": [
              "(7251, 7)"
            ]
          },
          "execution_count": 39,
          "metadata": {},
          "output_type": "execute_result"
        }
      ],
      "source": [
        "#selects rows where the number of bathrooms (bath) is less than the number of bedrooms (Bedroom) plus 2.\n",
        "#The filtered data is stored in df9.\n",
        "#df9.shape returns the number of rows and columns in df9\n",
        "\n",
        "df9 = df8[df8.bath < df8.Bedroom+2]\n",
        "df9.shape"
      ]
    },
    {
      "cell_type": "code",
      "execution_count": 40,
      "metadata": {},
      "outputs": [
        {
          "data": {
            "text/html": [
              "<div>\n",
              "<style scoped>\n",
              "    .dataframe tbody tr th:only-of-type {\n",
              "        vertical-align: middle;\n",
              "    }\n",
              "\n",
              "    .dataframe tbody tr th {\n",
              "        vertical-align: top;\n",
              "    }\n",
              "\n",
              "    .dataframe thead th {\n",
              "        text-align: right;\n",
              "    }\n",
              "</style>\n",
              "<table border=\"1\" class=\"dataframe\">\n",
              "  <thead>\n",
              "    <tr style=\"text-align: right;\">\n",
              "      <th></th>\n",
              "      <th>location</th>\n",
              "      <th>total_sqft</th>\n",
              "      <th>bath</th>\n",
              "      <th>price</th>\n",
              "      <th>Bedroom</th>\n",
              "    </tr>\n",
              "  </thead>\n",
              "  <tbody>\n",
              "    <tr>\n",
              "      <th>0</th>\n",
              "      <td>1st Block Jayanagar</td>\n",
              "      <td>2850.0</td>\n",
              "      <td>4.0</td>\n",
              "      <td>428.0</td>\n",
              "      <td>4</td>\n",
              "    </tr>\n",
              "    <tr>\n",
              "      <th>1</th>\n",
              "      <td>1st Block Jayanagar</td>\n",
              "      <td>1630.0</td>\n",
              "      <td>3.0</td>\n",
              "      <td>194.0</td>\n",
              "      <td>3</td>\n",
              "    </tr>\n",
              "    <tr>\n",
              "      <th>2</th>\n",
              "      <td>1st Block Jayanagar</td>\n",
              "      <td>1875.0</td>\n",
              "      <td>2.0</td>\n",
              "      <td>235.0</td>\n",
              "      <td>3</td>\n",
              "    </tr>\n",
              "  </tbody>\n",
              "</table>\n",
              "</div>"
            ],
            "text/plain": [
              "              location  total_sqft  bath  price  Bedroom\n",
              "0  1st Block Jayanagar      2850.0   4.0  428.0        4\n",
              "1  1st Block Jayanagar      1630.0   3.0  194.0        3\n",
              "2  1st Block Jayanagar      1875.0   2.0  235.0        3"
            ]
          },
          "execution_count": 40,
          "metadata": {},
          "output_type": "execute_result"
        }
      ],
      "source": [
        "#Drops the 'size' and 'price_per_sqft' columns from df9\n",
        "          #axis='columns' means it removes entire columns (not rows)\n",
        "#Stores the modified DataFrame in df10\n",
        "#Displays the first 3 rows of df10 using .head(3)\n",
        "\n",
        "df10 = df9.drop(['size','price_per_sqft'], axis='columns')\n",
        "df10.head(3)"
      ]
    },
    {
      "cell_type": "code",
      "execution_count": 41,
      "metadata": {},
      "outputs": [
        {
          "data": {
            "text/html": [
              "<div>\n",
              "<style scoped>\n",
              "    .dataframe tbody tr th:only-of-type {\n",
              "        vertical-align: middle;\n",
              "    }\n",
              "\n",
              "    .dataframe tbody tr th {\n",
              "        vertical-align: top;\n",
              "    }\n",
              "\n",
              "    .dataframe thead th {\n",
              "        text-align: right;\n",
              "    }\n",
              "</style>\n",
              "<table border=\"1\" class=\"dataframe\">\n",
              "  <thead>\n",
              "    <tr style=\"text-align: right;\">\n",
              "      <th></th>\n",
              "      <th>1st Block Jayanagar</th>\n",
              "      <th>1st Phase JP Nagar</th>\n",
              "      <th>2nd Phase Judicial Layout</th>\n",
              "      <th>2nd Stage Nagarbhavi</th>\n",
              "      <th>5th Block Hbr Layout</th>\n",
              "      <th>5th Phase JP Nagar</th>\n",
              "      <th>6th Phase JP Nagar</th>\n",
              "      <th>7th Phase JP Nagar</th>\n",
              "      <th>8th Phase JP Nagar</th>\n",
              "      <th>9th Phase JP Nagar</th>\n",
              "      <th>...</th>\n",
              "      <th>Vishveshwarya Layout</th>\n",
              "      <th>Vishwapriya Layout</th>\n",
              "      <th>Vittasandra</th>\n",
              "      <th>Whitefield</th>\n",
              "      <th>Yelachenahalli</th>\n",
              "      <th>Yelahanka</th>\n",
              "      <th>Yelahanka New Town</th>\n",
              "      <th>Yelenahalli</th>\n",
              "      <th>Yeshwanthpur</th>\n",
              "      <th>other</th>\n",
              "    </tr>\n",
              "  </thead>\n",
              "  <tbody>\n",
              "    <tr>\n",
              "      <th>0</th>\n",
              "      <td>True</td>\n",
              "      <td>False</td>\n",
              "      <td>False</td>\n",
              "      <td>False</td>\n",
              "      <td>False</td>\n",
              "      <td>False</td>\n",
              "      <td>False</td>\n",
              "      <td>False</td>\n",
              "      <td>False</td>\n",
              "      <td>False</td>\n",
              "      <td>...</td>\n",
              "      <td>False</td>\n",
              "      <td>False</td>\n",
              "      <td>False</td>\n",
              "      <td>False</td>\n",
              "      <td>False</td>\n",
              "      <td>False</td>\n",
              "      <td>False</td>\n",
              "      <td>False</td>\n",
              "      <td>False</td>\n",
              "      <td>False</td>\n",
              "    </tr>\n",
              "    <tr>\n",
              "      <th>1</th>\n",
              "      <td>True</td>\n",
              "      <td>False</td>\n",
              "      <td>False</td>\n",
              "      <td>False</td>\n",
              "      <td>False</td>\n",
              "      <td>False</td>\n",
              "      <td>False</td>\n",
              "      <td>False</td>\n",
              "      <td>False</td>\n",
              "      <td>False</td>\n",
              "      <td>...</td>\n",
              "      <td>False</td>\n",
              "      <td>False</td>\n",
              "      <td>False</td>\n",
              "      <td>False</td>\n",
              "      <td>False</td>\n",
              "      <td>False</td>\n",
              "      <td>False</td>\n",
              "      <td>False</td>\n",
              "      <td>False</td>\n",
              "      <td>False</td>\n",
              "    </tr>\n",
              "    <tr>\n",
              "      <th>2</th>\n",
              "      <td>True</td>\n",
              "      <td>False</td>\n",
              "      <td>False</td>\n",
              "      <td>False</td>\n",
              "      <td>False</td>\n",
              "      <td>False</td>\n",
              "      <td>False</td>\n",
              "      <td>False</td>\n",
              "      <td>False</td>\n",
              "      <td>False</td>\n",
              "      <td>...</td>\n",
              "      <td>False</td>\n",
              "      <td>False</td>\n",
              "      <td>False</td>\n",
              "      <td>False</td>\n",
              "      <td>False</td>\n",
              "      <td>False</td>\n",
              "      <td>False</td>\n",
              "      <td>False</td>\n",
              "      <td>False</td>\n",
              "      <td>False</td>\n",
              "    </tr>\n",
              "  </tbody>\n",
              "</table>\n",
              "<p>3 rows × 242 columns</p>\n",
              "</div>"
            ],
            "text/plain": [
              "   1st Block Jayanagar  1st Phase JP Nagar  2nd Phase Judicial Layout  \\\n",
              "0                 True               False                      False   \n",
              "1                 True               False                      False   \n",
              "2                 True               False                      False   \n",
              "\n",
              "   2nd Stage Nagarbhavi  5th Block Hbr Layout  5th Phase JP Nagar  \\\n",
              "0                 False                 False               False   \n",
              "1                 False                 False               False   \n",
              "2                 False                 False               False   \n",
              "\n",
              "   6th Phase JP Nagar  7th Phase JP Nagar  8th Phase JP Nagar  \\\n",
              "0               False               False               False   \n",
              "1               False               False               False   \n",
              "2               False               False               False   \n",
              "\n",
              "   9th Phase JP Nagar  ...  Vishveshwarya Layout  Vishwapriya Layout  \\\n",
              "0               False  ...                 False               False   \n",
              "1               False  ...                 False               False   \n",
              "2               False  ...                 False               False   \n",
              "\n",
              "   Vittasandra  Whitefield  Yelachenahalli  Yelahanka  Yelahanka New Town  \\\n",
              "0        False       False           False      False               False   \n",
              "1        False       False           False      False               False   \n",
              "2        False       False           False      False               False   \n",
              "\n",
              "   Yelenahalli  Yeshwanthpur  other  \n",
              "0        False         False  False  \n",
              "1        False         False  False  \n",
              "2        False         False  False  \n",
              "\n",
              "[3 rows x 242 columns]"
            ]
          },
          "execution_count": 41,
          "metadata": {},
          "output_type": "execute_result"
        }
      ],
      "source": [
        "#pd.get_dummies(df10.location)\n",
        "  #Converts the location column (which contains categorical values) into multiple binary (0 or 1) columns.\n",
        "#Each unique location gets its own column.\n",
        "#If a row had that location, the column value is 1; otherwise, it's 0.\n",
        "#Stores the result in dumies, which is a new DataFrame with only the encoded location columns.\n",
        "#dumies.head(3)\n",
        "  #Displays the first 3 rows of the new DataFrame\n",
        "\n",
        "dumies = pd.get_dummies(df10.location)\n",
        "dumies.head(3)"
      ]
    },
    {
      "cell_type": "code",
      "execution_count": 42,
      "metadata": {},
      "outputs": [
        {
          "data": {
            "text/html": [
              "<div>\n",
              "<style scoped>\n",
              "    .dataframe tbody tr th:only-of-type {\n",
              "        vertical-align: middle;\n",
              "    }\n",
              "\n",
              "    .dataframe tbody tr th {\n",
              "        vertical-align: top;\n",
              "    }\n",
              "\n",
              "    .dataframe thead th {\n",
              "        text-align: right;\n",
              "    }\n",
              "</style>\n",
              "<table border=\"1\" class=\"dataframe\">\n",
              "  <thead>\n",
              "    <tr style=\"text-align: right;\">\n",
              "      <th></th>\n",
              "      <th>location</th>\n",
              "      <th>total_sqft</th>\n",
              "      <th>bath</th>\n",
              "      <th>price</th>\n",
              "      <th>Bedroom</th>\n",
              "      <th>1st Block Jayanagar</th>\n",
              "      <th>1st Phase JP Nagar</th>\n",
              "      <th>2nd Phase Judicial Layout</th>\n",
              "      <th>2nd Stage Nagarbhavi</th>\n",
              "      <th>5th Block Hbr Layout</th>\n",
              "      <th>...</th>\n",
              "      <th>Vijayanagar</th>\n",
              "      <th>Vishveshwarya Layout</th>\n",
              "      <th>Vishwapriya Layout</th>\n",
              "      <th>Vittasandra</th>\n",
              "      <th>Whitefield</th>\n",
              "      <th>Yelachenahalli</th>\n",
              "      <th>Yelahanka</th>\n",
              "      <th>Yelahanka New Town</th>\n",
              "      <th>Yelenahalli</th>\n",
              "      <th>Yeshwanthpur</th>\n",
              "    </tr>\n",
              "  </thead>\n",
              "  <tbody>\n",
              "    <tr>\n",
              "      <th>0</th>\n",
              "      <td>1st Block Jayanagar</td>\n",
              "      <td>2850.0</td>\n",
              "      <td>4.0</td>\n",
              "      <td>428.0</td>\n",
              "      <td>4</td>\n",
              "      <td>True</td>\n",
              "      <td>False</td>\n",
              "      <td>False</td>\n",
              "      <td>False</td>\n",
              "      <td>False</td>\n",
              "      <td>...</td>\n",
              "      <td>False</td>\n",
              "      <td>False</td>\n",
              "      <td>False</td>\n",
              "      <td>False</td>\n",
              "      <td>False</td>\n",
              "      <td>False</td>\n",
              "      <td>False</td>\n",
              "      <td>False</td>\n",
              "      <td>False</td>\n",
              "      <td>False</td>\n",
              "    </tr>\n",
              "    <tr>\n",
              "      <th>1</th>\n",
              "      <td>1st Block Jayanagar</td>\n",
              "      <td>1630.0</td>\n",
              "      <td>3.0</td>\n",
              "      <td>194.0</td>\n",
              "      <td>3</td>\n",
              "      <td>True</td>\n",
              "      <td>False</td>\n",
              "      <td>False</td>\n",
              "      <td>False</td>\n",
              "      <td>False</td>\n",
              "      <td>...</td>\n",
              "      <td>False</td>\n",
              "      <td>False</td>\n",
              "      <td>False</td>\n",
              "      <td>False</td>\n",
              "      <td>False</td>\n",
              "      <td>False</td>\n",
              "      <td>False</td>\n",
              "      <td>False</td>\n",
              "      <td>False</td>\n",
              "      <td>False</td>\n",
              "    </tr>\n",
              "    <tr>\n",
              "      <th>2</th>\n",
              "      <td>1st Block Jayanagar</td>\n",
              "      <td>1875.0</td>\n",
              "      <td>2.0</td>\n",
              "      <td>235.0</td>\n",
              "      <td>3</td>\n",
              "      <td>True</td>\n",
              "      <td>False</td>\n",
              "      <td>False</td>\n",
              "      <td>False</td>\n",
              "      <td>False</td>\n",
              "      <td>...</td>\n",
              "      <td>False</td>\n",
              "      <td>False</td>\n",
              "      <td>False</td>\n",
              "      <td>False</td>\n",
              "      <td>False</td>\n",
              "      <td>False</td>\n",
              "      <td>False</td>\n",
              "      <td>False</td>\n",
              "      <td>False</td>\n",
              "      <td>False</td>\n",
              "    </tr>\n",
              "  </tbody>\n",
              "</table>\n",
              "<p>3 rows × 246 columns</p>\n",
              "</div>"
            ],
            "text/plain": [
              "              location  total_sqft  bath  price  Bedroom  1st Block Jayanagar  \\\n",
              "0  1st Block Jayanagar      2850.0   4.0  428.0        4                 True   \n",
              "1  1st Block Jayanagar      1630.0   3.0  194.0        3                 True   \n",
              "2  1st Block Jayanagar      1875.0   2.0  235.0        3                 True   \n",
              "\n",
              "   1st Phase JP Nagar  2nd Phase Judicial Layout  2nd Stage Nagarbhavi  \\\n",
              "0               False                      False                 False   \n",
              "1               False                      False                 False   \n",
              "2               False                      False                 False   \n",
              "\n",
              "   5th Block Hbr Layout  ...  Vijayanagar  Vishveshwarya Layout  \\\n",
              "0                 False  ...        False                 False   \n",
              "1                 False  ...        False                 False   \n",
              "2                 False  ...        False                 False   \n",
              "\n",
              "   Vishwapriya Layout  Vittasandra  Whitefield  Yelachenahalli  Yelahanka  \\\n",
              "0               False        False       False           False      False   \n",
              "1               False        False       False           False      False   \n",
              "2               False        False       False           False      False   \n",
              "\n",
              "   Yelahanka New Town  Yelenahalli  Yeshwanthpur  \n",
              "0               False        False         False  \n",
              "1               False        False         False  \n",
              "2               False        False         False  \n",
              "\n",
              "[3 rows x 246 columns]"
            ]
          },
          "execution_count": 42,
          "metadata": {},
          "output_type": "execute_result"
        }
      ],
      "source": [
        "#Stores the result in df11, which will now contain all the columns from df10 plus the new one-hot encoded columns from dumies\n",
        "df11 = pd.concat([df10,dumies.drop('other',axis='columns')],axis='columns')\n",
        "df11.head(3)"
      ]
    },
    {
      "cell_type": "code",
      "execution_count": 43,
      "metadata": {},
      "outputs": [
        {
          "data": {
            "text/html": [
              "<div>\n",
              "<style scoped>\n",
              "    .dataframe tbody tr th:only-of-type {\n",
              "        vertical-align: middle;\n",
              "    }\n",
              "\n",
              "    .dataframe tbody tr th {\n",
              "        vertical-align: top;\n",
              "    }\n",
              "\n",
              "    .dataframe thead th {\n",
              "        text-align: right;\n",
              "    }\n",
              "</style>\n",
              "<table border=\"1\" class=\"dataframe\">\n",
              "  <thead>\n",
              "    <tr style=\"text-align: right;\">\n",
              "      <th></th>\n",
              "      <th>total_sqft</th>\n",
              "      <th>bath</th>\n",
              "      <th>price</th>\n",
              "      <th>Bedroom</th>\n",
              "      <th>1st Block Jayanagar</th>\n",
              "      <th>1st Phase JP Nagar</th>\n",
              "      <th>2nd Phase Judicial Layout</th>\n",
              "      <th>2nd Stage Nagarbhavi</th>\n",
              "      <th>5th Block Hbr Layout</th>\n",
              "      <th>5th Phase JP Nagar</th>\n",
              "      <th>...</th>\n",
              "      <th>Vijayanagar</th>\n",
              "      <th>Vishveshwarya Layout</th>\n",
              "      <th>Vishwapriya Layout</th>\n",
              "      <th>Vittasandra</th>\n",
              "      <th>Whitefield</th>\n",
              "      <th>Yelachenahalli</th>\n",
              "      <th>Yelahanka</th>\n",
              "      <th>Yelahanka New Town</th>\n",
              "      <th>Yelenahalli</th>\n",
              "      <th>Yeshwanthpur</th>\n",
              "    </tr>\n",
              "  </thead>\n",
              "  <tbody>\n",
              "    <tr>\n",
              "      <th>0</th>\n",
              "      <td>2850.0</td>\n",
              "      <td>4.0</td>\n",
              "      <td>428.0</td>\n",
              "      <td>4</td>\n",
              "      <td>True</td>\n",
              "      <td>False</td>\n",
              "      <td>False</td>\n",
              "      <td>False</td>\n",
              "      <td>False</td>\n",
              "      <td>False</td>\n",
              "      <td>...</td>\n",
              "      <td>False</td>\n",
              "      <td>False</td>\n",
              "      <td>False</td>\n",
              "      <td>False</td>\n",
              "      <td>False</td>\n",
              "      <td>False</td>\n",
              "      <td>False</td>\n",
              "      <td>False</td>\n",
              "      <td>False</td>\n",
              "      <td>False</td>\n",
              "    </tr>\n",
              "    <tr>\n",
              "      <th>1</th>\n",
              "      <td>1630.0</td>\n",
              "      <td>3.0</td>\n",
              "      <td>194.0</td>\n",
              "      <td>3</td>\n",
              "      <td>True</td>\n",
              "      <td>False</td>\n",
              "      <td>False</td>\n",
              "      <td>False</td>\n",
              "      <td>False</td>\n",
              "      <td>False</td>\n",
              "      <td>...</td>\n",
              "      <td>False</td>\n",
              "      <td>False</td>\n",
              "      <td>False</td>\n",
              "      <td>False</td>\n",
              "      <td>False</td>\n",
              "      <td>False</td>\n",
              "      <td>False</td>\n",
              "      <td>False</td>\n",
              "      <td>False</td>\n",
              "      <td>False</td>\n",
              "    </tr>\n",
              "  </tbody>\n",
              "</table>\n",
              "<p>2 rows × 245 columns</p>\n",
              "</div>"
            ],
            "text/plain": [
              "   total_sqft  bath  price  Bedroom  1st Block Jayanagar  1st Phase JP Nagar  \\\n",
              "0      2850.0   4.0  428.0        4                 True               False   \n",
              "1      1630.0   3.0  194.0        3                 True               False   \n",
              "\n",
              "   2nd Phase Judicial Layout  2nd Stage Nagarbhavi  5th Block Hbr Layout  \\\n",
              "0                      False                 False                 False   \n",
              "1                      False                 False                 False   \n",
              "\n",
              "   5th Phase JP Nagar  ...  Vijayanagar  Vishveshwarya Layout  \\\n",
              "0               False  ...        False                 False   \n",
              "1               False  ...        False                 False   \n",
              "\n",
              "   Vishwapriya Layout  Vittasandra  Whitefield  Yelachenahalli  Yelahanka  \\\n",
              "0               False        False       False           False      False   \n",
              "1               False        False       False           False      False   \n",
              "\n",
              "   Yelahanka New Town  Yelenahalli  Yeshwanthpur  \n",
              "0               False        False         False  \n",
              "1               False        False         False  \n",
              "\n",
              "[2 rows x 245 columns]"
            ]
          },
          "execution_count": 43,
          "metadata": {},
          "output_type": "execute_result"
        }
      ],
      "source": [
        "#drop location column and cretae new df12\n",
        "df12 = df11.drop(\"location\",axis='columns')\n",
        "df12.head(2)"
      ]
    },
    {
      "cell_type": "code",
      "execution_count": 44,
      "metadata": {},
      "outputs": [
        {
          "data": {
            "text/plain": [
              "(7251, 245)"
            ]
          },
          "execution_count": 44,
          "metadata": {},
          "output_type": "execute_result"
        }
      ],
      "source": [
        "df12.shape"
      ]
    },
    {
      "cell_type": "code",
      "execution_count": 45,
      "metadata": {},
      "outputs": [
        {
          "data": {
            "text/html": [
              "<div>\n",
              "<style scoped>\n",
              "    .dataframe tbody tr th:only-of-type {\n",
              "        vertical-align: middle;\n",
              "    }\n",
              "\n",
              "    .dataframe tbody tr th {\n",
              "        vertical-align: top;\n",
              "    }\n",
              "\n",
              "    .dataframe thead th {\n",
              "        text-align: right;\n",
              "    }\n",
              "</style>\n",
              "<table border=\"1\" class=\"dataframe\">\n",
              "  <thead>\n",
              "    <tr style=\"text-align: right;\">\n",
              "      <th></th>\n",
              "      <th>total_sqft</th>\n",
              "      <th>bath</th>\n",
              "      <th>Bedroom</th>\n",
              "      <th>1st Block Jayanagar</th>\n",
              "      <th>1st Phase JP Nagar</th>\n",
              "      <th>2nd Phase Judicial Layout</th>\n",
              "      <th>2nd Stage Nagarbhavi</th>\n",
              "      <th>5th Block Hbr Layout</th>\n",
              "      <th>5th Phase JP Nagar</th>\n",
              "      <th>6th Phase JP Nagar</th>\n",
              "      <th>...</th>\n",
              "      <th>Vijayanagar</th>\n",
              "      <th>Vishveshwarya Layout</th>\n",
              "      <th>Vishwapriya Layout</th>\n",
              "      <th>Vittasandra</th>\n",
              "      <th>Whitefield</th>\n",
              "      <th>Yelachenahalli</th>\n",
              "      <th>Yelahanka</th>\n",
              "      <th>Yelahanka New Town</th>\n",
              "      <th>Yelenahalli</th>\n",
              "      <th>Yeshwanthpur</th>\n",
              "    </tr>\n",
              "  </thead>\n",
              "  <tbody>\n",
              "    <tr>\n",
              "      <th>0</th>\n",
              "      <td>2850.0</td>\n",
              "      <td>4.0</td>\n",
              "      <td>4</td>\n",
              "      <td>True</td>\n",
              "      <td>False</td>\n",
              "      <td>False</td>\n",
              "      <td>False</td>\n",
              "      <td>False</td>\n",
              "      <td>False</td>\n",
              "      <td>False</td>\n",
              "      <td>...</td>\n",
              "      <td>False</td>\n",
              "      <td>False</td>\n",
              "      <td>False</td>\n",
              "      <td>False</td>\n",
              "      <td>False</td>\n",
              "      <td>False</td>\n",
              "      <td>False</td>\n",
              "      <td>False</td>\n",
              "      <td>False</td>\n",
              "      <td>False</td>\n",
              "    </tr>\n",
              "    <tr>\n",
              "      <th>1</th>\n",
              "      <td>1630.0</td>\n",
              "      <td>3.0</td>\n",
              "      <td>3</td>\n",
              "      <td>True</td>\n",
              "      <td>False</td>\n",
              "      <td>False</td>\n",
              "      <td>False</td>\n",
              "      <td>False</td>\n",
              "      <td>False</td>\n",
              "      <td>False</td>\n",
              "      <td>...</td>\n",
              "      <td>False</td>\n",
              "      <td>False</td>\n",
              "      <td>False</td>\n",
              "      <td>False</td>\n",
              "      <td>False</td>\n",
              "      <td>False</td>\n",
              "      <td>False</td>\n",
              "      <td>False</td>\n",
              "      <td>False</td>\n",
              "      <td>False</td>\n",
              "    </tr>\n",
              "    <tr>\n",
              "      <th>2</th>\n",
              "      <td>1875.0</td>\n",
              "      <td>2.0</td>\n",
              "      <td>3</td>\n",
              "      <td>True</td>\n",
              "      <td>False</td>\n",
              "      <td>False</td>\n",
              "      <td>False</td>\n",
              "      <td>False</td>\n",
              "      <td>False</td>\n",
              "      <td>False</td>\n",
              "      <td>...</td>\n",
              "      <td>False</td>\n",
              "      <td>False</td>\n",
              "      <td>False</td>\n",
              "      <td>False</td>\n",
              "      <td>False</td>\n",
              "      <td>False</td>\n",
              "      <td>False</td>\n",
              "      <td>False</td>\n",
              "      <td>False</td>\n",
              "      <td>False</td>\n",
              "    </tr>\n",
              "    <tr>\n",
              "      <th>3</th>\n",
              "      <td>1200.0</td>\n",
              "      <td>2.0</td>\n",
              "      <td>3</td>\n",
              "      <td>True</td>\n",
              "      <td>False</td>\n",
              "      <td>False</td>\n",
              "      <td>False</td>\n",
              "      <td>False</td>\n",
              "      <td>False</td>\n",
              "      <td>False</td>\n",
              "      <td>...</td>\n",
              "      <td>False</td>\n",
              "      <td>False</td>\n",
              "      <td>False</td>\n",
              "      <td>False</td>\n",
              "      <td>False</td>\n",
              "      <td>False</td>\n",
              "      <td>False</td>\n",
              "      <td>False</td>\n",
              "      <td>False</td>\n",
              "      <td>False</td>\n",
              "    </tr>\n",
              "    <tr>\n",
              "      <th>4</th>\n",
              "      <td>1235.0</td>\n",
              "      <td>2.0</td>\n",
              "      <td>2</td>\n",
              "      <td>True</td>\n",
              "      <td>False</td>\n",
              "      <td>False</td>\n",
              "      <td>False</td>\n",
              "      <td>False</td>\n",
              "      <td>False</td>\n",
              "      <td>False</td>\n",
              "      <td>...</td>\n",
              "      <td>False</td>\n",
              "      <td>False</td>\n",
              "      <td>False</td>\n",
              "      <td>False</td>\n",
              "      <td>False</td>\n",
              "      <td>False</td>\n",
              "      <td>False</td>\n",
              "      <td>False</td>\n",
              "      <td>False</td>\n",
              "      <td>False</td>\n",
              "    </tr>\n",
              "  </tbody>\n",
              "</table>\n",
              "<p>5 rows × 244 columns</p>\n",
              "</div>"
            ],
            "text/plain": [
              "   total_sqft  bath  Bedroom  1st Block Jayanagar  1st Phase JP Nagar  \\\n",
              "0      2850.0   4.0        4                 True               False   \n",
              "1      1630.0   3.0        3                 True               False   \n",
              "2      1875.0   2.0        3                 True               False   \n",
              "3      1200.0   2.0        3                 True               False   \n",
              "4      1235.0   2.0        2                 True               False   \n",
              "\n",
              "   2nd Phase Judicial Layout  2nd Stage Nagarbhavi  5th Block Hbr Layout  \\\n",
              "0                      False                 False                 False   \n",
              "1                      False                 False                 False   \n",
              "2                      False                 False                 False   \n",
              "3                      False                 False                 False   \n",
              "4                      False                 False                 False   \n",
              "\n",
              "   5th Phase JP Nagar  6th Phase JP Nagar  ...  Vijayanagar  \\\n",
              "0               False               False  ...        False   \n",
              "1               False               False  ...        False   \n",
              "2               False               False  ...        False   \n",
              "3               False               False  ...        False   \n",
              "4               False               False  ...        False   \n",
              "\n",
              "   Vishveshwarya Layout  Vishwapriya Layout  Vittasandra  Whitefield  \\\n",
              "0                 False               False        False       False   \n",
              "1                 False               False        False       False   \n",
              "2                 False               False        False       False   \n",
              "3                 False               False        False       False   \n",
              "4                 False               False        False       False   \n",
              "\n",
              "   Yelachenahalli  Yelahanka  Yelahanka New Town  Yelenahalli  Yeshwanthpur  \n",
              "0           False      False               False        False         False  \n",
              "1           False      False               False        False         False  \n",
              "2           False      False               False        False         False  \n",
              "3           False      False               False        False         False  \n",
              "4           False      False               False        False         False  \n",
              "\n",
              "[5 rows x 244 columns]"
            ]
          },
          "execution_count": 45,
          "metadata": {},
          "output_type": "execute_result"
        }
      ],
      "source": [
        "#Stores the result in X, which now contains all columns except 'price'\n",
        "#X will be used as the input (features) for a machine learning model\n",
        "#X.head() displays the first 5 rows of X\n",
        "\n",
        "X = df12.drop('price',axis='columns')\n",
        "X.head()"
      ]
    },
    {
      "cell_type": "code",
      "execution_count": 46,
      "metadata": {},
      "outputs": [
        {
          "data": {
            "text/plain": [
              "0    428.0\n",
              "1    194.0\n",
              "2    235.0\n",
              "3    130.0\n",
              "4    148.0\n",
              "Name: price, dtype: float64"
            ]
          },
          "execution_count": 46,
          "metadata": {},
          "output_type": "execute_result"
        }
      ],
      "source": [
        "#df12.price → Selects the price column from df12\n",
        "#y = df12.price → Saves this column as y\n",
        "#y.head() → Shows the first 5 values from y\n",
        "\n",
        "y = df12.price\n",
        "y.head()"
      ]
    },
    {
      "cell_type": "code",
      "execution_count": 47,
      "metadata": {},
      "outputs": [],
      "source": [
        "#train_test_split(X, y, test_size=0.2, random_state=10)\n",
        "  #Splits X (features) and y (target/labels) into training and testing sets\n",
        "  #test_size=0.2 → 20% of the data is used for testing, 80% for training\n",
        "  #random_state=10 → Ensures the split is the same every time you run the code\n",
        "\n",
        "#The output is stored in four variables:\n",
        "  #X_train → Training data (features)\n",
        "  #X_test → Testing data (features)\n",
        "  #y_train → Training data (target)\n",
        "  #y_test → Testing data (target)\n",
        "\n",
        "from sklearn.model_selection import train_test_split\n",
        "X_train, X_test, y_train, y_test = train_test_split(X,y,test_size=0.2,random_state=10)"
      ]
    },
    {
      "cell_type": "code",
      "execution_count": 48,
      "metadata": {},
      "outputs": [
        {
          "data": {
            "text/plain": [
              "0.8452277697874374"
            ]
          },
          "execution_count": 48,
          "metadata": {},
          "output_type": "execute_result"
        }
      ],
      "source": [
        "#LinearRegression() → Creates a linear regression model (lr_clf).\n",
        "#lr_clf.fit(X_train, y_train) → Trains the model using the training data (X_train, y_train).\n",
        "#lr_clf.score(X_test, y_test) → Measures how well the model predicts y_test using X_test. The score is the R² (R-squared) value, which shows how well the model fits the test data.\n",
        "#Closer to 1 → Good prediction.\n",
        "#Closer to 0 → Poor prediction.\n",
        "from sklearn.linear_model import LinearRegression\n",
        "lr_clf = LinearRegression()\n",
        "lr_clf.fit(X_train, y_train)\n",
        "lr_clf.score(X_test, y_test)"
      ]
    },
    {
      "cell_type": "code",
      "execution_count": 49,
      "metadata": {},
      "outputs": [
        {
          "data": {
            "text/plain": [
              "array([0.82430186, 0.77166234, 0.85089567, 0.80837764, 0.83653286])"
            ]
          },
          "execution_count": 49,
          "metadata": {},
          "output_type": "execute_result"
        }
      ],
      "source": [
        "from sklearn.model_selection import ShuffleSplit\n",
        "from sklearn.model_selection import cross_val_score\n",
        "\n",
        "cv = ShuffleSplit(n_splits=5, test_size=0.2, random_state=0)\n",
        "\n",
        "cross_val_score(LinearRegression(), X, y, cv=cv)"
      ]
    },
    {
      "cell_type": "code",
      "execution_count": 50,
      "metadata": {},
      "outputs": [
        {
          "data": {
            "text/html": [
              "<div>\n",
              "<style scoped>\n",
              "    .dataframe tbody tr th:only-of-type {\n",
              "        vertical-align: middle;\n",
              "    }\n",
              "\n",
              "    .dataframe tbody tr th {\n",
              "        vertical-align: top;\n",
              "    }\n",
              "\n",
              "    .dataframe thead th {\n",
              "        text-align: right;\n",
              "    }\n",
              "</style>\n",
              "<table border=\"1\" class=\"dataframe\">\n",
              "  <thead>\n",
              "    <tr style=\"text-align: right;\">\n",
              "      <th></th>\n",
              "      <th>model</th>\n",
              "      <th>best_score</th>\n",
              "      <th>best_params</th>\n",
              "    </tr>\n",
              "  </thead>\n",
              "  <tbody>\n",
              "    <tr>\n",
              "      <th>0</th>\n",
              "      <td>linear_regression</td>\n",
              "      <td>0.818354</td>\n",
              "      <td>{}</td>\n",
              "    </tr>\n",
              "    <tr>\n",
              "      <th>1</th>\n",
              "      <td>lasso</td>\n",
              "      <td>0.687429</td>\n",
              "      <td>{'alpha': 1, 'selection': 'cyclic'}</td>\n",
              "    </tr>\n",
              "    <tr>\n",
              "      <th>2</th>\n",
              "      <td>decision_tree</td>\n",
              "      <td>0.727171</td>\n",
              "      <td>{'criterion': 'squared_error', 'splitter': 'be...</td>\n",
              "    </tr>\n",
              "  </tbody>\n",
              "</table>\n",
              "</div>"
            ],
            "text/plain": [
              "               model  best_score  \\\n",
              "0  linear_regression    0.818354   \n",
              "1              lasso    0.687429   \n",
              "2      decision_tree    0.727171   \n",
              "\n",
              "                                         best_params  \n",
              "0                                                 {}  \n",
              "1                {'alpha': 1, 'selection': 'cyclic'}  \n",
              "2  {'criterion': 'squared_error', 'splitter': 'be...  "
            ]
          },
          "execution_count": 50,
          "metadata": {},
          "output_type": "execute_result"
        }
      ],
      "source": [
        "from sklearn.model_selection import GridSearchCV\n",
        "\n",
        "from sklearn.linear_model import Lasso, LinearRegression\n",
        "from sklearn.tree import DecisionTreeRegressor\n",
        "from sklearn.model_selection import ShuffleSplit\n",
        "import pandas as pd\n",
        "\n",
        "\n",
        "def find_best_model_using_gridsearchcv(X,y) :\n",
        "  algos = {\n",
        "    'linear_regression' : {\n",
        "      'model' : LinearRegression(),\n",
        "      'params' : {}\n",
        "    },\n",
        "    'lasso' : {\n",
        "      'model':Lasso(),\n",
        "      'params' : {\n",
        "        'alpha' : [1,2],\n",
        "        'selection' : ['random' , 'cyclic']\n",
        "      }\n",
        "    },\n",
        "    'decision_tree' : {\n",
        "      'model' : DecisionTreeRegressor(),\n",
        "      'params':{\n",
        "        #mse\n",
        "        'criterion':['squared_error','friedman_mse'],\n",
        "        'splitter':['best','random']\n",
        "      }\n",
        "    }\n",
        "  }\n",
        "  scores = []\n",
        "  cv = ShuffleSplit(n_splits=5, test_size=0.2, random_state=0)\n",
        "  for algo_name, config in algos.items():\n",
        "    gs = GridSearchCV(config['model'], config['params'], cv=cv, return_train_score=False)\n",
        "    gs.fit(X,y)\n",
        "    scores.append({\n",
        "      'model':algo_name,\n",
        "      'best_score': gs.best_score_,\n",
        "      'best_params':gs.best_params_\n",
        "    })\n",
        "\n",
        "  return pd.DataFrame(scores,columns=['model','best_score','best_params'])\n",
        "\n",
        "find_best_model_using_gridsearchcv(X,y)"
      ]
    },
    {
      "cell_type": "code",
      "execution_count": 51,
      "metadata": {},
      "outputs": [
        {
          "data": {
            "text/plain": [
              "Index(['total_sqft', 'bath', 'Bedroom', '1st Block Jayanagar',\n",
              "       '1st Phase JP Nagar', '2nd Phase Judicial Layout',\n",
              "       '2nd Stage Nagarbhavi', '5th Block Hbr Layout', '5th Phase JP Nagar',\n",
              "       '6th Phase JP Nagar',\n",
              "       ...\n",
              "       'Vijayanagar', 'Vishveshwarya Layout', 'Vishwapriya Layout',\n",
              "       'Vittasandra', 'Whitefield', 'Yelachenahalli', 'Yelahanka',\n",
              "       'Yelahanka New Town', 'Yelenahalli', 'Yeshwanthpur'],\n",
              "      dtype='object', length=244)"
            ]
          },
          "execution_count": 51,
          "metadata": {},
          "output_type": "execute_result"
        }
      ],
      "source": [
        "X.columns"
      ]
    },
    {
      "cell_type": "code",
      "execution_count": 52,
      "metadata": {},
      "outputs": [
        {
          "data": {
            "text/plain": [
              "5"
            ]
          },
          "execution_count": 52,
          "metadata": {},
          "output_type": "execute_result"
        }
      ],
      "source": [
        "np.where(X.columns=='2nd Phase Judicial Layout')[0][0]"
      ]
    },
    {
      "cell_type": "code",
      "execution_count": 53,
      "metadata": {},
      "outputs": [],
      "source": [
        "def predict_price(location,sqft,bath,Bedroom):\n",
        "  loc_index  = np.where(X.columns == location)[0][0]\n",
        "\n",
        "  x = np.zeros(len(X.columns))\n",
        "  x[0] = sqft\n",
        "  x[1] = bath\n",
        "  x[2] = Bedroom\n",
        "  if loc_index >= 0:\n",
        "    x[loc_index] = 1\n",
        "\n",
        "  return lr_clf.predict([x])[0]"
      ]
    },
    {
      "cell_type": "code",
      "execution_count": 54,
      "metadata": {},
      "outputs": [
        {
          "name": "stderr",
          "output_type": "stream",
          "text": [
            "c:\\Users\\ASUS\\AppData\\Local\\Programs\\Python\\Python312\\Lib\\site-packages\\sklearn\\base.py:493: UserWarning: X does not have valid feature names, but LinearRegression was fitted with feature names\n",
            "  warnings.warn(\n"
          ]
        },
        {
          "data": {
            "text/plain": [
              "83.49904677204199"
            ]
          },
          "execution_count": 54,
          "metadata": {},
          "output_type": "execute_result"
        }
      ],
      "source": [
        "predict_price('1st Phase JP Nagar',1000,2,2)"
      ]
    },
    {
      "cell_type": "code",
      "execution_count": 55,
      "metadata": {},
      "outputs": [
        {
          "name": "stderr",
          "output_type": "stream",
          "text": [
            "c:\\Users\\ASUS\\AppData\\Local\\Programs\\Python\\Python312\\Lib\\site-packages\\sklearn\\base.py:493: UserWarning: X does not have valid feature names, but LinearRegression was fitted with feature names\n",
            "  warnings.warn(\n"
          ]
        },
        {
          "data": {
            "text/plain": [
              "81.72616900780261"
            ]
          },
          "execution_count": 55,
          "metadata": {},
          "output_type": "execute_result"
        }
      ],
      "source": [
        "predict_price('1st Phase JP Nagar',1000,2,3)"
      ]
    },
    {
      "cell_type": "code",
      "execution_count": 56,
      "metadata": {},
      "outputs": [
        {
          "name": "stderr",
          "output_type": "stream",
          "text": [
            "c:\\Users\\ASUS\\AppData\\Local\\Programs\\Python\\Python312\\Lib\\site-packages\\sklearn\\base.py:493: UserWarning: X does not have valid feature names, but LinearRegression was fitted with feature names\n",
            "  warnings.warn(\n"
          ]
        },
        {
          "data": {
            "text/plain": [
              "181.2781548400642"
            ]
          },
          "execution_count": 56,
          "metadata": {},
          "output_type": "execute_result"
        }
      ],
      "source": [
        "predict_price('Indira Nagar',1000,2,2)"
      ]
    },
    {
      "cell_type": "code",
      "execution_count": 57,
      "metadata": {},
      "outputs": [
        {
          "name": "stderr",
          "output_type": "stream",
          "text": [
            "c:\\Users\\ASUS\\AppData\\Local\\Programs\\Python\\Python312\\Lib\\site-packages\\sklearn\\base.py:493: UserWarning: X does not have valid feature names, but LinearRegression was fitted with feature names\n",
            "  warnings.warn(\n"
          ]
        },
        {
          "data": {
            "text/plain": [
              "184.58430202033173"
            ]
          },
          "execution_count": 57,
          "metadata": {},
          "output_type": "execute_result"
        }
      ],
      "source": [
        "predict_price('Indira Nagar',1000,3,3)"
      ]
    },
    {
      "cell_type": "code",
      "execution_count": 58,
      "metadata": {},
      "outputs": [],
      "source": [
        "import pickle\n",
        "with open('banglore_home_prices_model.pickel','wb') as f:\n",
        "  pickle.dump(lr_clf,f)"
      ]
    },
    {
      "cell_type": "code",
      "execution_count": 59,
      "metadata": {},
      "outputs": [],
      "source": [
        "import json\n",
        "columns = {\n",
        "  'data_columns' : [col.lower() for col in X.columns]\n",
        "}\n",
        "with open(\"columns.json\",\"w\") as f:\n",
        "  f.write(json.dumps(columns))\n"
      ]
    },
    {
      "cell_type": "code",
      "execution_count": null,
      "metadata": {},
      "outputs": [],
      "source": []
    }
  ],
  "metadata": {
    "colab": {
      "provenance": []
    },
    "kernelspec": {
      "display_name": "Python 3",
      "name": "python3"
    },
    "language_info": {
      "codemirror_mode": {
        "name": "ipython",
        "version": 3
      },
      "file_extension": ".py",
      "mimetype": "text/x-python",
      "name": "python",
      "nbconvert_exporter": "python",
      "pygments_lexer": "ipython3",
      "version": "3.12.2"
    }
  },
  "nbformat": 4,
  "nbformat_minor": 0
}
